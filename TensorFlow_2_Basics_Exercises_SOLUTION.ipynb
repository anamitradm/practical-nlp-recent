{
  "cells": [
    {
      "cell_type": "markdown",
      "id": "8601d189",
      "metadata": {
        "id": "8601d189"
      },
      "source": [
        "\n",
        "# TensorFlow 2 Exercises for Basic Tensor Manipulation\n",
        "\n",
        "This notebook provides a set of exercises designed to familiarize you with the basics of tensor manipulation in TensorFlow 2,\n",
        "which is essential for handling Large Language Models (LLMs).\n",
        "\n",
        "## Contents\n",
        "1. Tensor Basics\n",
        "2. Tensor Operations\n",
        "3. Manipulating Tensor Shapes\n",
        "4. Indexing and Slicing\n",
        "5. Broadcasting\n",
        "6. Data Loading and Preprocessing\n",
        "\n",
        "Each section will include a brief explanation followed by practical exercises.\n"
      ]
    },
    {
      "cell_type": "markdown",
      "id": "216324e4",
      "metadata": {
        "id": "216324e4"
      },
      "source": [
        "\n",
        "## 1. Tensor Basics\n",
        "\n",
        "**Objective**: Understand how to create tensors, and learn about their types and shapes.\n",
        "\n",
        "**Exercises**:\n",
        "1. Create a scalar tensor (0-D tensor) with a specific value.\n",
        "2. Create a 1-D tensor (vector) with 5 elements.\n",
        "3. Create a 2-D tensor (matrix) of shape (3, 3).\n",
        "4. Find the data type (`dtype`) of the tensors created above.\n",
        "5. Convert a numpy array to a TensorFlow tensor.\n"
      ]
    },
    {
      "cell_type": "code",
      "source": [
        "import tensorflow as tf\n",
        "tf.constant(5)"
      ],
      "metadata": {
        "colab": {
          "base_uri": "https://localhost:8080/"
        },
        "id": "C4pq6_WR9qWs",
        "outputId": "18f4eea8-cbf7-4869-f0a0-8b4cd8a4d39e"
      },
      "id": "C4pq6_WR9qWs",
      "execution_count": 1,
      "outputs": [
        {
          "output_type": "execute_result",
          "data": {
            "text/plain": [
              "<tf.Tensor: shape=(), dtype=int32, numpy=5>"
            ]
          },
          "metadata": {},
          "execution_count": 1
        }
      ]
    },
    {
      "cell_type": "code",
      "source": [
        "tf.constant([1,2,3,4,5])"
      ],
      "metadata": {
        "colab": {
          "base_uri": "https://localhost:8080/"
        },
        "id": "AKDggakHCw1G",
        "outputId": "1a29e34b-570c-47ef-d18c-1bf5e2184c55"
      },
      "id": "AKDggakHCw1G",
      "execution_count": 2,
      "outputs": [
        {
          "output_type": "execute_result",
          "data": {
            "text/plain": [
              "<tf.Tensor: shape=(5,), dtype=int32, numpy=array([1, 2, 3, 4, 5], dtype=int32)>"
            ]
          },
          "metadata": {},
          "execution_count": 2
        }
      ]
    },
    {
      "cell_type": "code",
      "source": [
        "import numpy as np\n",
        "\n",
        "array = np.random.randint(10, size=(3,3))\n",
        "array"
      ],
      "metadata": {
        "colab": {
          "base_uri": "https://localhost:8080/"
        },
        "id": "NbZfA80FC4nw",
        "outputId": "e74fe2a2-40ca-4d9d-a5a0-fd976e20750b"
      },
      "id": "NbZfA80FC4nw",
      "execution_count": 3,
      "outputs": [
        {
          "output_type": "execute_result",
          "data": {
            "text/plain": [
              "array([[1, 7, 1],\n",
              "       [7, 1, 8],\n",
              "       [4, 4, 9]])"
            ]
          },
          "metadata": {},
          "execution_count": 3
        }
      ]
    },
    {
      "cell_type": "code",
      "source": [
        "tf.constant(array)"
      ],
      "metadata": {
        "colab": {
          "base_uri": "https://localhost:8080/"
        },
        "id": "2pGB8oK-DAVL",
        "outputId": "c56924e4-770e-455d-91c2-0b54dfc5bb8f"
      },
      "id": "2pGB8oK-DAVL",
      "execution_count": 4,
      "outputs": [
        {
          "output_type": "execute_result",
          "data": {
            "text/plain": [
              "<tf.Tensor: shape=(3, 3), dtype=int64, numpy=\n",
              "array([[1, 7, 1],\n",
              "       [7, 1, 8],\n",
              "       [4, 4, 9]])>"
            ]
          },
          "metadata": {},
          "execution_count": 4
        }
      ]
    },
    {
      "cell_type": "code",
      "source": [
        "tf.constant(array).dtype"
      ],
      "metadata": {
        "colab": {
          "base_uri": "https://localhost:8080/"
        },
        "id": "G0JF_jc3DFW6",
        "outputId": "8c823e4a-fdb1-4a9f-8799-e562994bf5e1"
      },
      "id": "G0JF_jc3DFW6",
      "execution_count": 5,
      "outputs": [
        {
          "output_type": "execute_result",
          "data": {
            "text/plain": [
              "tf.int64"
            ]
          },
          "metadata": {},
          "execution_count": 5
        }
      ]
    },
    {
      "cell_type": "markdown",
      "id": "02281206",
      "metadata": {
        "id": "02281206"
      },
      "source": [
        "\n",
        "## 2. Tensor Operations\n",
        "\n",
        "**Objective**: Perform basic arithmetic operations and learn some advanced operations.\n",
        "\n",
        "**Exercises**:\n",
        "1. Add, subtract, multiply, and divide two tensors.\n",
        "2. Compute the mean and standard deviation of a tensor.\n",
        "3. Apply a non-linear activation function (like ReLU) to a tensor.\n",
        "4. Perform matrix multiplication between two 2-D tensors.\n"
      ]
    },
    {
      "cell_type": "code",
      "source": [
        "a = tf.constant([1,3,2,5,6])\n",
        "b= tf.constant([6,5,3,2, 1])"
      ],
      "metadata": {
        "id": "HAA8nBNiDYcl"
      },
      "id": "HAA8nBNiDYcl",
      "execution_count": 8,
      "outputs": []
    },
    {
      "cell_type": "code",
      "source": [
        "a + b"
      ],
      "metadata": {
        "colab": {
          "base_uri": "https://localhost:8080/"
        },
        "id": "52vFBu2eDkdI",
        "outputId": "104883f6-5e11-48e3-8b29-43153702eb2e"
      },
      "id": "52vFBu2eDkdI",
      "execution_count": 9,
      "outputs": [
        {
          "output_type": "execute_result",
          "data": {
            "text/plain": [
              "<tf.Tensor: shape=(5,), dtype=int32, numpy=array([7, 8, 5, 7, 7], dtype=int32)>"
            ]
          },
          "metadata": {},
          "execution_count": 9
        }
      ]
    },
    {
      "cell_type": "code",
      "source": [
        "a-b"
      ],
      "metadata": {
        "colab": {
          "base_uri": "https://localhost:8080/"
        },
        "id": "riUNaz1rDsUp",
        "outputId": "27fcbff9-dc08-4d28-bf2b-2794eb938faf"
      },
      "id": "riUNaz1rDsUp",
      "execution_count": 10,
      "outputs": [
        {
          "output_type": "execute_result",
          "data": {
            "text/plain": [
              "<tf.Tensor: shape=(5,), dtype=int32, numpy=array([-5, -2, -1,  3,  5], dtype=int32)>"
            ]
          },
          "metadata": {},
          "execution_count": 10
        }
      ]
    },
    {
      "cell_type": "code",
      "source": [
        "a*b"
      ],
      "metadata": {
        "colab": {
          "base_uri": "https://localhost:8080/"
        },
        "id": "nO3TFXPHDuUN",
        "outputId": "92c2bf04-2e94-49f9-acd4-772772430d95"
      },
      "id": "nO3TFXPHDuUN",
      "execution_count": 11,
      "outputs": [
        {
          "output_type": "execute_result",
          "data": {
            "text/plain": [
              "<tf.Tensor: shape=(5,), dtype=int32, numpy=array([ 6, 15,  6, 10,  6], dtype=int32)>"
            ]
          },
          "metadata": {},
          "execution_count": 11
        }
      ]
    },
    {
      "cell_type": "code",
      "source": [
        "a = tf.cast(tf.constant(np.random.randint(10, size=(3,3))), tf.float32)\n",
        "b = tf.cast(tf.constant(np.random.randint(10, size=(3,3))), tf.float32)\n",
        "a, b"
      ],
      "metadata": {
        "colab": {
          "base_uri": "https://localhost:8080/"
        },
        "id": "9Hb6WENiD0BN",
        "outputId": "ad00adcd-d73b-4f84-ced8-979e545ab035"
      },
      "id": "9Hb6WENiD0BN",
      "execution_count": 18,
      "outputs": [
        {
          "output_type": "execute_result",
          "data": {
            "text/plain": [
              "(<tf.Tensor: shape=(3, 3), dtype=float32, numpy=\n",
              " array([[1., 0., 6.],\n",
              "        [2., 3., 4.],\n",
              "        [2., 3., 7.]], dtype=float32)>,\n",
              " <tf.Tensor: shape=(3, 3), dtype=float32, numpy=\n",
              " array([[9., 5., 5.],\n",
              "        [0., 5., 2.],\n",
              "        [7., 1., 1.]], dtype=float32)>)"
            ]
          },
          "metadata": {},
          "execution_count": 18
        }
      ]
    },
    {
      "cell_type": "code",
      "source": [
        "tf.reduce_mean(a, axis=1)"
      ],
      "metadata": {
        "colab": {
          "base_uri": "https://localhost:8080/"
        },
        "id": "2UHmvWIjD9LJ",
        "outputId": "af26aa26-b082-4179-c74f-a639c969b63e"
      },
      "id": "2UHmvWIjD9LJ",
      "execution_count": 20,
      "outputs": [
        {
          "output_type": "execute_result",
          "data": {
            "text/plain": [
              "<tf.Tensor: shape=(3,), dtype=float32, numpy=array([2.3333333, 3.       , 4.       ], dtype=float32)>"
            ]
          },
          "metadata": {},
          "execution_count": 20
        }
      ]
    },
    {
      "cell_type": "code",
      "source": [
        "tf.math.reduce_std(a, axis=1)"
      ],
      "metadata": {
        "colab": {
          "base_uri": "https://localhost:8080/"
        },
        "id": "NCfafg6dEkOg",
        "outputId": "4f75a832-ebce-4b68-add0-f1850da480bb"
      },
      "id": "NCfafg6dEkOg",
      "execution_count": 21,
      "outputs": [
        {
          "output_type": "execute_result",
          "data": {
            "text/plain": [
              "<tf.Tensor: shape=(3,), dtype=float32, numpy=array([2.6246693, 0.8164966, 2.1602468], dtype=float32)>"
            ]
          },
          "metadata": {},
          "execution_count": 21
        }
      ]
    },
    {
      "cell_type": "code",
      "source": [
        "tf.matmul(a, b)"
      ],
      "metadata": {
        "colab": {
          "base_uri": "https://localhost:8080/"
        },
        "id": "Ltg5DljXFmT2",
        "outputId": "56856f1e-5778-4544-a199-c50ffa0435d1"
      },
      "id": "Ltg5DljXFmT2",
      "execution_count": 22,
      "outputs": [
        {
          "output_type": "execute_result",
          "data": {
            "text/plain": [
              "<tf.Tensor: shape=(3, 3), dtype=float32, numpy=\n",
              "array([[51., 11., 11.],\n",
              "       [46., 29., 20.],\n",
              "       [67., 32., 23.]], dtype=float32)>"
            ]
          },
          "metadata": {},
          "execution_count": 22
        }
      ]
    },
    {
      "cell_type": "code",
      "source": [
        "tf.nn.relu(a-3)"
      ],
      "metadata": {
        "colab": {
          "base_uri": "https://localhost:8080/"
        },
        "id": "R60hfOd7FqYq",
        "outputId": "fdc414b7-e9ac-4de5-d71a-68cef5461071"
      },
      "id": "R60hfOd7FqYq",
      "execution_count": 24,
      "outputs": [
        {
          "output_type": "execute_result",
          "data": {
            "text/plain": [
              "<tf.Tensor: shape=(3, 3), dtype=float32, numpy=\n",
              "array([[0., 0., 3.],\n",
              "       [0., 0., 1.],\n",
              "       [0., 0., 4.]], dtype=float32)>"
            ]
          },
          "metadata": {},
          "execution_count": 24
        }
      ]
    },
    {
      "cell_type": "markdown",
      "id": "d4bd1425",
      "metadata": {
        "id": "d4bd1425"
      },
      "source": [
        "\n",
        "## 3. Manipulating Tensor Shapes\n",
        "\n",
        "**Objective**: Learn how to reshape and transpose tensors.\n",
        "\n",
        "**Exercises**:\n",
        "1. Create a tensor of shape (4, 4), then reshape it to (2, 8).\n",
        "2. Transpose a 2-D tensor.\n",
        "3. Flatten a 3-D tensor to a 1-D tensor.\n"
      ]
    },
    {
      "cell_type": "code",
      "source": [
        "a = tf.constant(np.random.randint(10, size=(4,4)))\n",
        "a"
      ],
      "metadata": {
        "colab": {
          "base_uri": "https://localhost:8080/"
        },
        "id": "zVPBwWOsDtxV",
        "outputId": "9b73d742-624a-495d-9518-bab5d1e9f96c"
      },
      "id": "zVPBwWOsDtxV",
      "execution_count": 26,
      "outputs": [
        {
          "output_type": "execute_result",
          "data": {
            "text/plain": [
              "<tf.Tensor: shape=(4, 4), dtype=int64, numpy=\n",
              "array([[7, 8, 2, 3],\n",
              "       [1, 2, 9, 5],\n",
              "       [1, 8, 1, 2],\n",
              "       [1, 0, 8, 1]])>"
            ]
          },
          "metadata": {},
          "execution_count": 26
        }
      ]
    },
    {
      "cell_type": "code",
      "source": [
        "tf.reshape(a, (2,8))"
      ],
      "metadata": {
        "colab": {
          "base_uri": "https://localhost:8080/"
        },
        "id": "MVDhcG6KGGkE",
        "outputId": "0ae88805-1834-4563-ee7f-dcd7e62c3425"
      },
      "id": "MVDhcG6KGGkE",
      "execution_count": 27,
      "outputs": [
        {
          "output_type": "execute_result",
          "data": {
            "text/plain": [
              "<tf.Tensor: shape=(2, 8), dtype=int64, numpy=\n",
              "array([[7, 8, 2, 3, 1, 2, 9, 5],\n",
              "       [1, 8, 1, 2, 1, 0, 8, 1]])>"
            ]
          },
          "metadata": {},
          "execution_count": 27
        }
      ]
    },
    {
      "cell_type": "code",
      "source": [
        "tf.transpose(a)"
      ],
      "metadata": {
        "colab": {
          "base_uri": "https://localhost:8080/"
        },
        "id": "wg13qfXVGN0u",
        "outputId": "2f4a3ce2-9fc0-420c-adf4-dfc146a86d42"
      },
      "id": "wg13qfXVGN0u",
      "execution_count": 29,
      "outputs": [
        {
          "output_type": "execute_result",
          "data": {
            "text/plain": [
              "<tf.Tensor: shape=(4, 4), dtype=int64, numpy=\n",
              "array([[7, 1, 1, 1],\n",
              "       [8, 2, 8, 0],\n",
              "       [2, 9, 1, 8],\n",
              "       [3, 5, 2, 1]])>"
            ]
          },
          "metadata": {},
          "execution_count": 29
        }
      ]
    },
    {
      "cell_type": "code",
      "source": [
        "tf.reshape(a, -1)"
      ],
      "metadata": {
        "colab": {
          "base_uri": "https://localhost:8080/"
        },
        "id": "KJT2bQAmGeyK",
        "outputId": "eebf38bc-2af1-4079-925d-143b720245ee"
      },
      "id": "KJT2bQAmGeyK",
      "execution_count": 30,
      "outputs": [
        {
          "output_type": "execute_result",
          "data": {
            "text/plain": [
              "<tf.Tensor: shape=(16,), dtype=int64, numpy=array([7, 8, 2, 3, 1, 2, 9, 5, 1, 8, 1, 2, 1, 0, 8, 1])>"
            ]
          },
          "metadata": {},
          "execution_count": 30
        }
      ]
    },
    {
      "cell_type": "markdown",
      "id": "7c2af7ed",
      "metadata": {
        "id": "7c2af7ed"
      },
      "source": [
        "\n",
        "## 4. Indexing and Slicing\n",
        "\n",
        "**Objective**: Access specific elements or slices of a tensor.\n",
        "\n",
        "**Exercises**:\n",
        "1. Extract a specific element from a tensor.\n",
        "2. Slice a portion of a tensor.\n",
        "3. Use boolean tensor indexing to filter elements.\n"
      ]
    },
    {
      "cell_type": "code",
      "source": [],
      "metadata": {
        "id": "PbeP_BH9Goec"
      },
      "id": "PbeP_BH9Goec",
      "execution_count": null,
      "outputs": []
    },
    {
      "cell_type": "code",
      "source": [
        "a"
      ],
      "metadata": {
        "colab": {
          "base_uri": "https://localhost:8080/"
        },
        "id": "LV3op2P1GnML",
        "outputId": "2f0c1200-be88-4109-a0a9-018db417df55"
      },
      "id": "LV3op2P1GnML",
      "execution_count": 31,
      "outputs": [
        {
          "output_type": "execute_result",
          "data": {
            "text/plain": [
              "<tf.Tensor: shape=(4, 4), dtype=int64, numpy=\n",
              "array([[7, 8, 2, 3],\n",
              "       [1, 2, 9, 5],\n",
              "       [1, 8, 1, 2],\n",
              "       [1, 0, 8, 1]])>"
            ]
          },
          "metadata": {},
          "execution_count": 31
        }
      ]
    },
    {
      "cell_type": "code",
      "source": [
        "a[1:,1]"
      ],
      "metadata": {
        "colab": {
          "base_uri": "https://localhost:8080/"
        },
        "id": "9JqY7oq7Gpbg",
        "outputId": "4722cc0a-351a-47e4-91df-04e9df771e00"
      },
      "id": "9JqY7oq7Gpbg",
      "execution_count": 33,
      "outputs": [
        {
          "output_type": "execute_result",
          "data": {
            "text/plain": [
              "<tf.Tensor: shape=(3,), dtype=int64, numpy=array([2, 8, 0])>"
            ]
          },
          "metadata": {},
          "execution_count": 33
        }
      ]
    },
    {
      "cell_type": "markdown",
      "id": "dd6b95f3",
      "metadata": {
        "id": "dd6b95f3"
      },
      "source": [
        "\n",
        "## 5. Broadcasting\n",
        "\n",
        "**Objective**: Understand and apply broadcasting rules in tensor operations.\n",
        "\n",
        "**Exercises**:\n",
        "1. Perform an element-wise addition between tensors of different shapes.\n",
        "2. Broadcast a smaller tensor to match the shape of a larger tensor in an operation.\n"
      ]
    },
    {
      "cell_type": "markdown",
      "id": "5ca2545d",
      "metadata": {
        "id": "5ca2545d"
      },
      "source": [
        "\n",
        "## 6. Data Loading and Preprocessing\n",
        "\n",
        "**Objective**: Use `tf.data` for efficient data handling.\n",
        "\n",
        "**Exercises**:\n",
        "1. Create a simple dataset using `tf.data.Dataset`.\n",
        "2. Apply a transformation (like mapping) to the dataset.\n",
        "3. Batch and shuffle the dataset.\n"
      ]
    },
    {
      "cell_type": "code",
      "source": [
        "a = tf.constant(np.random.randint(10, size=(10,2)))\n",
        "a"
      ],
      "metadata": {
        "id": "FgxSOrQneCW6",
        "colab": {
          "base_uri": "https://localhost:8080/"
        },
        "outputId": "518be190-54ee-4c7d-927c-4ee58d0a8674"
      },
      "id": "FgxSOrQneCW6",
      "execution_count": 34,
      "outputs": [
        {
          "output_type": "execute_result",
          "data": {
            "text/plain": [
              "<tf.Tensor: shape=(10, 2), dtype=int64, numpy=\n",
              "array([[7, 4],\n",
              "       [4, 6],\n",
              "       [9, 7],\n",
              "       [6, 5],\n",
              "       [8, 8],\n",
              "       [3, 1],\n",
              "       [8, 4],\n",
              "       [7, 3],\n",
              "       [9, 2],\n",
              "       [4, 4]])>"
            ]
          },
          "metadata": {},
          "execution_count": 34
        }
      ]
    },
    {
      "cell_type": "code",
      "source": [
        "dataset = tf.data.Dataset.from_tensor_slices(a)\n",
        "dataset"
      ],
      "metadata": {
        "colab": {
          "base_uri": "https://localhost:8080/"
        },
        "id": "xsZR4kbRHgML",
        "outputId": "7259280e-8f84-46cd-a592-1686ceb8972e"
      },
      "id": "xsZR4kbRHgML",
      "execution_count": 35,
      "outputs": [
        {
          "output_type": "execute_result",
          "data": {
            "text/plain": [
              "<_TensorSliceDataset element_spec=TensorSpec(shape=(2,), dtype=tf.int64, name=None)>"
            ]
          },
          "metadata": {},
          "execution_count": 35
        }
      ]
    },
    {
      "cell_type": "code",
      "source": [
        "def mapping(x):\n",
        "  return x**2"
      ],
      "metadata": {
        "id": "kgxOVSBGHjvd"
      },
      "id": "kgxOVSBGHjvd",
      "execution_count": 36,
      "outputs": []
    },
    {
      "cell_type": "code",
      "source": [
        "dataset_mapped = dataset.map(mapping)\n",
        "dataset_mapped"
      ],
      "metadata": {
        "colab": {
          "base_uri": "https://localhost:8080/"
        },
        "id": "bugZO9pfHwkY",
        "outputId": "de2e0893-377c-4acf-fc4c-e6a2abc203ca"
      },
      "id": "bugZO9pfHwkY",
      "execution_count": 37,
      "outputs": [
        {
          "output_type": "execute_result",
          "data": {
            "text/plain": [
              "<_MapDataset element_spec=TensorSpec(shape=(2,), dtype=tf.int64, name=None)>"
            ]
          },
          "metadata": {},
          "execution_count": 37
        }
      ]
    },
    {
      "cell_type": "code",
      "source": [
        "batch_size = 2\n",
        "dataset_batched = dataset_mapped.batch(batch_size)\n",
        "dataset_batched"
      ],
      "metadata": {
        "colab": {
          "base_uri": "https://localhost:8080/"
        },
        "id": "AsBDISIYHzj_",
        "outputId": "462183ee-912f-4718-dfb0-3666c67a3478"
      },
      "id": "AsBDISIYHzj_",
      "execution_count": 38,
      "outputs": [
        {
          "output_type": "execute_result",
          "data": {
            "text/plain": [
              "<_BatchDataset element_spec=TensorSpec(shape=(None, 2), dtype=tf.int64, name=None)>"
            ]
          },
          "metadata": {},
          "execution_count": 38
        }
      ]
    },
    {
      "cell_type": "code",
      "source": [
        "for x in dataset_batched:\n",
        "  print(x)"
      ],
      "metadata": {
        "colab": {
          "base_uri": "https://localhost:8080/"
        },
        "id": "0zbrg-dBH5Lq",
        "outputId": "1f6f9aa0-2f60-4b40-e3d4-e26e272fc5f1"
      },
      "id": "0zbrg-dBH5Lq",
      "execution_count": 39,
      "outputs": [
        {
          "output_type": "stream",
          "name": "stdout",
          "text": [
            "tf.Tensor(\n",
            "[[49 16]\n",
            " [16 36]], shape=(2, 2), dtype=int64)\n",
            "tf.Tensor(\n",
            "[[81 49]\n",
            " [36 25]], shape=(2, 2), dtype=int64)\n",
            "tf.Tensor(\n",
            "[[64 64]\n",
            " [ 9  1]], shape=(2, 2), dtype=int64)\n",
            "tf.Tensor(\n",
            "[[64 16]\n",
            " [49  9]], shape=(2, 2), dtype=int64)\n",
            "tf.Tensor(\n",
            "[[81  4]\n",
            " [16 16]], shape=(2, 2), dtype=int64)\n"
          ]
        }
      ]
    },
    {
      "cell_type": "code",
      "source": [],
      "metadata": {
        "id": "Djuan0Q-H87E"
      },
      "id": "Djuan0Q-H87E",
      "execution_count": null,
      "outputs": []
    }
  ],
  "metadata": {
    "colab": {
      "provenance": []
    },
    "language_info": {
      "name": "python"
    },
    "kernelspec": {
      "name": "python3",
      "display_name": "Python 3"
    }
  },
  "nbformat": 4,
  "nbformat_minor": 5
}