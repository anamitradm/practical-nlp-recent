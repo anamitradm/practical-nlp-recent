{
 "cells": [
  {
   "cell_type": "markdown",
   "metadata": {
    "pycharm": {
     "name": "#%% md\n"
    }
   },
   "source": [
    "# Lab 11\n",
    "## Named Entity Recognition with Spacy\n",
    "\n",
    "In this notebook, we will perform NER with Spacy's model `en_core_web_trf` that has many NLP funcitonalities. Notice how easy it is to use it\n",
    "\n",
    "\n",
    "You can run this lab both locally or in Colab.\n",
    "\n",
    "- To run in Colab just go to `https://colab.research.google.com`, sign-in and you upload this notebook. Colab has GPU access for free.\n",
    "- To run locally just run `jupyter notebook` and access the notebook in this lab. You would need to first install the requirements in `requirements.txt`\n",
    "\n",
    "In both cases run:\n",
    "\n",
    "```\n",
    "python3 -m spacy download en_core_web_trf\n",
    "```\n",
    "\n",
    "Follow the instructions. Good luck!"
   ]
  },
  {
   "cell_type": "code",
   "execution_count": null,
   "outputs": [],
   "source": [
    "!python -m spacy download en_core_web_trf"
   ],
   "metadata": {
    "collapsed": false,
    "pycharm": {
     "name": "#%%\n"
    }
   }
  },
  {
   "cell_type": "code",
   "execution_count": null,
   "metadata": {
    "colab": {
     "base_uri": "https://localhost:8080/"
    },
    "id": "udFYtOmkxmvT",
    "outputId": "faf3cdb4-4184-46b2-e38b-44c4c9e4d42a"
   },
   "outputs": [],
   "source": [
    "!pip install --upgrade spacy-transformers 'spacy==3.4' spacy[transformers]"
   ]
  },
  {
   "cell_type": "code",
   "execution_count": null,
   "metadata": {
    "id": "23PSmwzgt7hD",
    "pycharm": {
     "is_executing": true,
     "name": "#%%\n"
    }
   },
   "outputs": [],
   "source": [
    "import numpy as np\n",
    "import spacy\n",
    "import sys\n",
    "import pandas as pd\n",
    "np.random.seed(42)"
   ]
  },
  {
   "cell_type": "code",
   "execution_count": null,
   "metadata": {
    "colab": {
     "base_uri": "https://localhost:8080/"
    },
    "id": "r6_4pLJ4uBo0",
    "outputId": "b9483c5f-7ede-44fb-9bb5-1cd8d47ec8ac"
   },
   "outputs": [],
   "source": [
    "%%writefile get_data.sh\n",
    "if [ ! -f new_york_reduced.csv ]; then\n",
    "  wget -O new_york_reduced.csv https://www.dropbox.com/s/fcagfdzahya1ttn/new_york_reduced.csv?dl=0\n",
    "fi\n"
   ]
  },
  {
   "cell_type": "code",
   "execution_count": null,
   "metadata": {
    "id": "iOww8onDuWIJ"
   },
   "outputs": [],
   "source": [
    "!bash get_data.sh"
   ]
  },
  {
   "cell_type": "code",
   "execution_count": null,
   "metadata": {
    "colab": {
     "base_uri": "https://localhost:8080/",
     "height": 206
    },
    "id": "fz0uisikt7hF",
    "outputId": "56b2e0f3-5865-4836-bbbd-168bc4492d85",
    "pycharm": {
     "is_executing": true,
     "name": "#%%\n"
    }
   },
   "outputs": [],
   "source": [
    "nlp = None # Load en_core_web_trf model\n",
    "dataset = pd.read_csv('new_york_reduced.csv')[:100][[\"id\", \"name\", \"description\", \"neighbourhood_cleansed\", \"property_type\"]]\n",
    "dataset.head()"
   ]
  },
  {
   "cell_type": "code",
   "execution_count": null,
   "metadata": {
    "colab": {
     "base_uri": "https://localhost:8080/",
     "height": 124
    },
    "id": "CzOjCZ4xt7hG",
    "outputId": "4474ff75-d632-4032-8508-466cd5bbef33",
    "pycharm": {
     "is_executing": true,
     "name": "#%%\n"
    }
   },
   "outputs": [],
   "source": [
    "first_description = dataset[\"description\"].iloc[0]\n",
    "first_description\n"
   ]
  },
  {
   "cell_type": "code",
   "execution_count": null,
   "metadata": {
    "colab": {
     "base_uri": "https://localhost:8080/"
    },
    "id": "XERz1d02t7hG",
    "outputId": "708a82df-1079-4f2e-dc5c-6d5643aa04a8",
    "pycharm": {
     "is_executing": true
    }
   },
   "outputs": [],
   "source": [
    "doc = None  # Apply the nlp model to the first description\n",
    "\n",
    "for ent in doc.ents:\n",
    "    print(ent.text, ent.start_char, ent.end_char, ent.label_)"
   ]
  },
  {
   "cell_type": "code",
   "execution_count": null,
   "metadata": {
    "id": "YJNXdKmBt7hH",
    "pycharm": {
     "is_executing": true
    }
   },
   "outputs": [],
   "source": [
    "tags = []\n",
    "\n",
    "def update_caches(document):\n",
    "    pass # Implement such that for a document it appends all the tag names to tags list\n",
    "\n",
    "update_caches = np.vectorize(update_caches)"
   ]
  },
  {
   "cell_type": "code",
   "execution_count": null,
   "metadata": {
    "id": "WqbgHMlkt7hH",
    "pycharm": {
     "is_executing": true
    }
   },
   "outputs": [],
   "source": [
    "None # Apply update_caches in vectorized form to the descriptions"
   ]
  },
  {
   "cell_type": "code",
   "execution_count": null,
   "metadata": {
    "id": "QH_-OxQAt7hI",
    "pycharm": {
     "name": "#%%\n"
    }
   },
   "outputs": [],
   "source": [
    "dataset = None # Add tags list to the original df as a new column\n",
    "dataset[\"id\"] = pd.to_numeric(dataset[\"id\"], downcast='integer')\n",
    "dataset = dataset[:100]"
   ]
  },
  {
   "cell_type": "code",
   "execution_count": null,
   "metadata": {
    "colab": {
     "base_uri": "https://localhost:8080/",
     "height": 572
    },
    "id": "EFXaxSDnt7hJ",
    "outputId": "d398822b-366c-478e-94eb-e4c80c397a3c"
   },
   "outputs": [],
   "source": [
    "dataset"
   ]
  },
  {
   "cell_type": "markdown",
   "metadata": {
    "id": "HkKbcPArt7hK",
    "pycharm": {
     "name": "#%% md\n"
    }
   },
   "source": [
    "Notice how easy this was, in the next lab we will do the same task but programming a neural net and comparing results.\n"
   ]
  }
 ],
 "metadata": {
  "colab": {
   "include_colab_link": true,
   "provenance": []
  },
  "kernelspec": {
   "display_name": "Python 3 (ipykernel)",
   "language": "python",
   "name": "python3"
  },
  "language_info": {
   "codemirror_mode": {
    "name": "ipython",
    "version": 3
   },
   "file_extension": ".py",
   "mimetype": "text/x-python",
   "name": "python",
   "nbconvert_exporter": "python",
   "pygments_lexer": "ipython3",
   "version": "3.7.3"
  }
 },
 "nbformat": 4,
 "nbformat_minor": 1
}