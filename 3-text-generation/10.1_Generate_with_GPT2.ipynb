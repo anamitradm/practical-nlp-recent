{
 "cells": [
  {
   "cell_type": "markdown",
   "metadata": {
    "colab_type": "text",
    "id": "view-in-github"
   },
   "source": [
    "# Lab 10.1\n",
    "## Text Generation with GPT-2\n",
    "\n",
    "\n",
    "In this notebook we will generate rental descriptions with the trained GPT-2 inference, which is an enormous pre-trained transformer model from HuggingFace. As it was not fine-tuned to rental descriptions we can expect a lot of language understanding but not a high accuracy\n",
    "\n",
    "You can run this lab both locally or in Colab.\n",
    "\n",
    "- To run in Colab just go to `https://colab.research.google.com`, sign-in and you upload this notebook. Colab has GPU access for free.\n",
    "- To run locally just run `jupyter notebook` and access the notebook in this lab. You would need to first install the requirements in `requirements.txt`\n",
    "\n",
    "Follow the instructions. Good luck!"
   ]
  },
  {
   "cell_type": "code",
   "execution_count": null,
   "metadata": {
    "colab": {
     "base_uri": "https://localhost:8080/"
    },
    "id": "8OXaHpPcEz5K",
    "outputId": "556f1c0b-2f9d-48b0-a69f-824fca5bef0b"
   },
   "outputs": [],
   "source": [
    "!pip install textblob 'gensim==4.2.0' 'keras_nlp' 'transformers'"
   ]
  },
  {
   "cell_type": "code",
   "execution_count": null,
   "metadata": {
    "colab": {
     "base_uri": "https://localhost:8080/"
    },
    "id": "41KOz1iVB7Qc",
    "outputId": "b25210bb-2120-4f82-fac8-f36a31388ef9"
   },
   "outputs": [],
   "source": [
    "import multiprocessing\n",
    "import os\n",
    "import random\n",
    "import re\n",
    "import warnings\n",
    "\n",
    "import gensim\n",
    "import keras.backend as K\n",
    "import nltk\n",
    "import numpy as np\n",
    "import pandas as pd\n",
    "import smart_open\n",
    "import tensorflow as tf\n",
    "from gensim.models.callbacks import CallbackAny2Vec\n",
    "from transformers import set_seed, pipeline\n",
    "from textblob import TextBlob\n",
    "\n",
    "TRACE = False\n",
    "embedding_dim = 100\n",
    "rnn_units = 128\n",
    "epochs=25\n",
    "buffer_size = 64\n",
    "corpus_size=25000\n",
    "test_corpus_size=5000\n",
    "# Batch size\n",
    "batch_size = 64\n",
    "min_count_words = 5\n",
    "BATCH = True\n",
    "\n",
    "def set_seeds_and_trace():\n",
    "  os.environ['PYTHONHASHSEED'] = '0'\n",
    "  np.random.seed(42)\n",
    "  tf.random.set_seed(42)\n",
    "  random.seed(42)\n",
    "  set_seed(42)\n",
    "  if TRACE:\n",
    "    tf.debugging.set_log_device_placement(True)\n",
    "\n",
    "def set_session_with_gpus_and_cores():\n",
    "  cores = multiprocessing.cpu_count()\n",
    "  gpus = len(tf.config.list_physical_devices('GPU'))\n",
    "  config = tf.compat.v1.ConfigProto( device_count = {'GPU': gpus  , 'CPU': cores} , intra_op_parallelism_threads=1, inter_op_parallelism_threads=1)\n",
    "  sess = tf.compat.v1.Session(config=config) \n",
    "  K.set_session(sess)\n",
    "\n",
    "set_seeds_and_trace()\n",
    "set_session_with_gpus_and_cores()\n",
    "warnings.filterwarnings('ignore')\n",
    "nltk.download('punkt')\n",
    "tokenizer = lambda x: TextBlob(x).words"
   ]
  },
  {
   "cell_type": "code",
   "execution_count": null,
   "metadata": {
    "colab": {
     "base_uri": "https://localhost:8080/"
    },
    "id": "ZxjBtsT1E6Or",
    "outputId": "ee5c16b5-2b23-4e5f-8929-817071e0bea4"
   },
   "outputs": [],
   "source": [
    "generator = None # Create a gpt-2 pipeline generator\n",
    "query = 'Midtown Sunny 2-Bedroom'\n",
    "generated_descriptions = None # Create 10 expansions of 200 words"
   ]
  },
  {
   "cell_type": "code",
   "execution_count": null,
   "metadata": {
    "colab": {
     "base_uri": "https://localhost:8080/"
    },
    "id": "nzm8TPDWFHUF",
    "outputId": "7ba1c913-5988-4f32-b371-9c5c9ad8683e"
   },
   "outputs": [],
   "source": [
    "%%writefile get_data.sh\n",
    "if [ ! -f train_corpus_descriptions_airbnb.csv ]; then\n",
    "  wget -O train_corpus_descriptions_airbnb.csv https://www.dropbox.com/s/5rp7ibop99qyafo/train_corpus_descriptions_airbnb.csv?dl=0\n",
    "fi\n"
   ]
  },
  {
   "cell_type": "code",
   "execution_count": null,
   "metadata": {
    "id": "FhdIAaMFFuMN"
   },
   "outputs": [],
   "source": [
    "!bash get_data.sh"
   ]
  },
  {
   "cell_type": "code",
   "execution_count": null,
   "metadata": {
    "id": "uoRBpEW5F8GC"
   },
   "outputs": [],
   "source": [
    "def preprocess_text(text, should_join=True):\n",
    "    text = str(text)\n",
    "    text = ' '.join(str(word).lower() for word in tokenizer(text))\n",
    "    text = re.sub(r\"([.,!?])\", r\" \\1 \", text)\n",
    "    text = re.sub(r\"[^a-zA-Z.,!?]+\", r\" \", text)\n",
    "    if should_join:\n",
    "      return ' '.join(gensim.utils.simple_preprocess(text))\n",
    "    else:\n",
    "      return gensim.utils.simple_preprocess(text)"
   ]
  },
  {
   "cell_type": "code",
   "execution_count": null,
   "metadata": {
    "id": "NysAm6HJFuPL"
   },
   "outputs": [],
   "source": [
    "# Create a doc2vec model of embedding_dim size, min_count of 2. Build the vocabulary and train it. Use the read_corpus TaggedDocuments method we used before\n",
    "\n",
    "doc2vec_model = None"
   ]
  },
  {
   "cell_type": "code",
   "execution_count": null,
   "metadata": {
    "colab": {
     "base_uri": "https://localhost:8080/",
     "height": 206
    },
    "id": "aiZ-f1TXE6Zu",
    "outputId": "a8a0ab72-65d6-4bc4-e816-58c3836032f3"
   },
   "outputs": [],
   "source": [
    "descriptions = []\n",
    "for description in generated_descriptions:\n",
    "    tokenized = None # tokenize the generated description\n",
    "    similarity = None # Find the similarity with the query\n",
    "    descriptions.append({\"description\": description[\"generated_text\"], \"similarity\": similarity})\n",
    "\n",
    "df_desc = pd.DataFrame(descriptions).sort_values(by=\"similarity\", ascending=False, inplace=False)\n",
    "df_desc.head()"
   ]
  },
  {
   "cell_type": "code",
   "execution_count": null,
   "metadata": {
    "colab": {
     "base_uri": "https://localhost:8080/",
     "height": 88
    },
    "id": "O82_7ZY4E6ci",
    "outputId": "09895a67-89fa-4ad9-d597-a2310bdbe587"
   },
   "outputs": [],
   "source": [
    "df_desc.iloc[0].description"
   ]
  },
  {
   "cell_type": "code",
   "execution_count": null,
   "metadata": {
    "colab": {
     "base_uri": "https://localhost:8080/",
     "height": 88
    },
    "id": "hz5JFjEHE6fu",
    "outputId": "03119888-6b21-45d7-a180-a0ee83ce3e36"
   },
   "outputs": [],
   "source": [
    "df_desc.iloc[1].description"
   ]
  },
  {
   "cell_type": "code",
   "execution_count": null,
   "metadata": {
    "id": "D6DmUs-bE6jY"
   },
   "outputs": [],
   "source": []
  }
 ],
 "metadata": {
  "colab": {
   "authorship_tag": "ABX9TyMG+A9IOOO/636EnbJiXGg2",
   "include_colab_link": true,
   "provenance": []
  },
  "kernelspec": {
   "display_name": "Python 3 (ipykernel)",
   "language": "python",
   "name": "python3"
  },
  "language_info": {
   "codemirror_mode": {
    "name": "ipython",
    "version": 3
   },
   "file_extension": ".py",
   "mimetype": "text/x-python",
   "name": "python",
   "nbconvert_exporter": "python",
   "pygments_lexer": "ipython3",
   "version": "3.7.3"
  }
 },
 "nbformat": 4,
 "nbformat_minor": 1
}