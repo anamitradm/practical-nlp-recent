{
  "nbformat": 4,
  "nbformat_minor": 0,
  "metadata": {
    "colab": {
      "provenance": [],
      "collapsed_sections": [],
      "authorship_tag": "ABX9TyMtUYeizXsth7Ia5GcX7Ik3",
      "include_colab_link": true
    },
    "kernelspec": {
      "name": "python3",
      "display_name": "Python 3"
    },
    "language_info": {
      "name": "python"
    }
  },
  "cells": [
    {
      "cell_type": "markdown",
      "metadata": {
        "id": "view-in-github",
        "colab_type": "text"
      },
      "source": [
        "<a href=\"https://colab.research.google.com/github/axel-sirota/practical-nlp/blob/main/1-synonims/Practical_NLP_4_Reranking.ipynb\" target=\"_parent\"><img src=\"https://colab.research.google.com/assets/colab-badge.svg\" alt=\"Open In Colab\"/></a>"
      ]
    },
    {
      "cell_type": "code",
      "source": [
        "!pip install 'gensim==4.2.0'"
      ],
      "metadata": {
        "colab": {
          "base_uri": "https://localhost:8080/"
        },
        "id": "bv7ld82dP5fX",
        "outputId": "b13133a6-de25-4ae4-e276-056431ee480d"
      },
      "execution_count": 13,
      "outputs": [
        {
          "output_type": "stream",
          "name": "stdout",
          "text": [
            "Looking in indexes: https://pypi.org/simple, https://us-python.pkg.dev/colab-wheels/public/simple/\n",
            "Requirement already satisfied: gensim==4.2.0 in /usr/local/lib/python3.7/dist-packages (4.2.0)\n",
            "Requirement already satisfied: numpy>=1.17.0 in /usr/local/lib/python3.7/dist-packages (from gensim==4.2.0) (1.21.6)\n",
            "Requirement already satisfied: scipy>=0.18.1 in /usr/local/lib/python3.7/dist-packages (from gensim==4.2.0) (1.7.3)\n",
            "Requirement already satisfied: smart-open>=1.8.1 in /usr/local/lib/python3.7/dist-packages (from gensim==4.2.0) (5.2.1)\n"
          ]
        }
      ]
    },
    {
      "cell_type": "code",
      "execution_count": 14,
      "metadata": {
        "id": "fTnc0QXRp2my"
      },
      "outputs": [],
      "source": [
        "import sys\n",
        "import numpy as np\n",
        "from gensim.models import Doc2Vec\n",
        "import smart_open\n",
        "import pandas as pd\n",
        "import gensim\n",
        "np.random.seed(42)\n"
      ]
    },
    {
      "cell_type": "code",
      "source": [
        "gensim.__version__"
      ],
      "metadata": {
        "colab": {
          "base_uri": "https://localhost:8080/",
          "height": 35
        },
        "id": "85gxlgRUP2sC",
        "outputId": "a2add002-4c9c-421b-edf2-1425fa23eba8"
      },
      "execution_count": 15,
      "outputs": [
        {
          "output_type": "execute_result",
          "data": {
            "text/plain": [
              "'4.2.0'"
            ],
            "application/vnd.google.colaboratory.intrinsic+json": {
              "type": "string"
            }
          },
          "metadata": {},
          "execution_count": 15
        }
      ]
    },
    {
      "cell_type": "code",
      "source": [
        "%%writefile get_data.sh\n",
        "\n",
        "if [ ! -f yelp.csv ]; then\n",
        "  wget -O yelp.csv https://www.dropbox.com/s/xds4lua69b7okw8/yelp.csv?dl=0\n",
        "fi\n",
        "if [ ! -f doc2vec_yelp_model ]; then\n",
        "  wget -O doc2vec_yelp_model https://www.dropbox.com/s/bibu9bashb0cd68/doc2vec_yelp_model?dl=0\n",
        "fi"
      ],
      "metadata": {
        "colab": {
          "base_uri": "https://localhost:8080/"
        },
        "id": "rJw0Zi-SqyPD",
        "outputId": "08f9041f-483a-4f1b-a99c-84bf6ad506f6"
      },
      "execution_count": 16,
      "outputs": [
        {
          "output_type": "stream",
          "name": "stdout",
          "text": [
            "Writing get_data.sh\n"
          ]
        }
      ]
    },
    {
      "cell_type": "code",
      "source": [
        "!bash get_data.sh"
      ],
      "metadata": {
        "colab": {
          "base_uri": "https://localhost:8080/"
        },
        "id": "2CqfNhYbq2Rc",
        "outputId": "5da69f98-5662-4b93-a81c-9ce452d40cd1"
      },
      "execution_count": 17,
      "outputs": [
        {
          "output_type": "stream",
          "name": "stdout",
          "text": [
            "--2022-10-14 02:13:21--  https://www.dropbox.com/s/xds4lua69b7okw8/yelp.csv?dl=0\n",
            "Resolving www.dropbox.com (www.dropbox.com)... 162.125.5.18, 2620:100:601d:18::a27d:512\n",
            "Connecting to www.dropbox.com (www.dropbox.com)|162.125.5.18|:443... connected.\n",
            "HTTP request sent, awaiting response... 302 Found\n",
            "Location: /s/raw/xds4lua69b7okw8/yelp.csv [following]\n",
            "--2022-10-14 02:13:21--  https://www.dropbox.com/s/raw/xds4lua69b7okw8/yelp.csv\n",
            "Reusing existing connection to www.dropbox.com:443.\n",
            "HTTP request sent, awaiting response... 302 Found\n",
            "Location: https://ucef43b5b65045b3dcb838920a7b.dl.dropboxusercontent.com/cd/0/inline/Buzsx7bTEqExjSKRXVxtFQPqdB-ceHeASoN6NpzPgKcACZcrXYUGDvn0LT9pqXIjYf2XXeHfaDCkpiSWUhdW34825zmakhCnvpl0_3WjRXDn-eyorgNYVQiAbFDWfS23mjivts4x49tzJjgcUCVAIQHPCDPosp5Ds2yx03T4yHMrPA/file# [following]\n",
            "--2022-10-14 02:13:22--  https://ucef43b5b65045b3dcb838920a7b.dl.dropboxusercontent.com/cd/0/inline/Buzsx7bTEqExjSKRXVxtFQPqdB-ceHeASoN6NpzPgKcACZcrXYUGDvn0LT9pqXIjYf2XXeHfaDCkpiSWUhdW34825zmakhCnvpl0_3WjRXDn-eyorgNYVQiAbFDWfS23mjivts4x49tzJjgcUCVAIQHPCDPosp5Ds2yx03T4yHMrPA/file\n",
            "Resolving ucef43b5b65045b3dcb838920a7b.dl.dropboxusercontent.com (ucef43b5b65045b3dcb838920a7b.dl.dropboxusercontent.com)... 162.125.5.15, 2620:100:601d:15::a27d:50f\n",
            "Connecting to ucef43b5b65045b3dcb838920a7b.dl.dropboxusercontent.com (ucef43b5b65045b3dcb838920a7b.dl.dropboxusercontent.com)|162.125.5.15|:443... connected.\n",
            "HTTP request sent, awaiting response... 200 OK\n",
            "Length: 8091185 (7.7M) [text/plain]\n",
            "Saving to: ‘yelp.csv’\n",
            "\n",
            "yelp.csv            100%[===================>]   7.72M  31.8MB/s    in 0.2s    \n",
            "\n",
            "2022-10-14 02:13:22 (31.8 MB/s) - ‘yelp.csv’ saved [8091185/8091185]\n",
            "\n",
            "--2022-10-14 02:13:22--  https://www.dropbox.com/s/bibu9bashb0cd68/doc2vec_yelp_model?dl=0\n",
            "Resolving www.dropbox.com (www.dropbox.com)... 162.125.5.18, 2620:100:601d:18::a27d:512\n",
            "Connecting to www.dropbox.com (www.dropbox.com)|162.125.5.18|:443... connected.\n",
            "HTTP request sent, awaiting response... 302 Found\n",
            "Location: /s/raw/bibu9bashb0cd68/doc2vec_yelp_model [following]\n",
            "--2022-10-14 02:13:23--  https://www.dropbox.com/s/raw/bibu9bashb0cd68/doc2vec_yelp_model\n",
            "Reusing existing connection to www.dropbox.com:443.\n",
            "HTTP request sent, awaiting response... 302 Found\n",
            "Location: https://ucdef1f85bef052db9da9d190604.dl.dropboxusercontent.com/cd/0/inline/BuwKM_fCGE13OOQYfD4skwPK9GbQdK72fTqv8nOijh6Lqd9VEu1RVeDYavsQ9lJcOj-nEFiZ7jTR683oi6jhj1bM7L5MoFwvJgJIxJUzmnkzUbvb3iV4nWLnNWp-F4xA7aygK-S4p92aydG7hXDIR73S9kB5JrjIMTtCBqUis4MTIQ/file# [following]\n",
            "--2022-10-14 02:13:23--  https://ucdef1f85bef052db9da9d190604.dl.dropboxusercontent.com/cd/0/inline/BuwKM_fCGE13OOQYfD4skwPK9GbQdK72fTqv8nOijh6Lqd9VEu1RVeDYavsQ9lJcOj-nEFiZ7jTR683oi6jhj1bM7L5MoFwvJgJIxJUzmnkzUbvb3iV4nWLnNWp-F4xA7aygK-S4p92aydG7hXDIR73S9kB5JrjIMTtCBqUis4MTIQ/file\n",
            "Resolving ucdef1f85bef052db9da9d190604.dl.dropboxusercontent.com (ucdef1f85bef052db9da9d190604.dl.dropboxusercontent.com)... 162.125.5.15, 2620:100:601d:15::a27d:50f\n",
            "Connecting to ucdef1f85bef052db9da9d190604.dl.dropboxusercontent.com (ucdef1f85bef052db9da9d190604.dl.dropboxusercontent.com)|162.125.5.15|:443... connected.\n",
            "HTTP request sent, awaiting response... 302 Found\n",
            "Location: /cd/0/inline2/BuwyunLmH6OVvcpD8k7Jv5hediIMeqq4oOHkvtGvH_YYrSkAvdiFZxDtKdSOCV-9tM8zUEr6Y-wfvSDgp_0Gc7mbFWf8gsJg_8R2Am-ceCIoDjvNh00AEkyHaXZtLCs-d25Adb8cHxasygPW7MxQYIzG0fifg7B8hGmXHXCUr8Xe1In8OtqQVKJnsbEzDCzGpofi8ogJhcZDxUFZOAJhjCyiwL2uxtwDwr4hQEF6ZcvdfPhkrZcAwp4ocp0ypU6f9E5n2OcXjJtmW-OSgHBbx2jaw7UM5SsNopUOD5d8akhhvYHuHJ2ArRzVxZmU4AgKoXRwZTZelQqlBJgsB71fKuXF1osycyuWHMO2OXK_XcqvbTBqV4_8uqOOynhLhU3tZKFsaRd9Vyq5K3NN6zE-rBJAkUs-B0B_JTAWQd_72L71Cg/file [following]\n",
            "--2022-10-14 02:13:23--  https://ucdef1f85bef052db9da9d190604.dl.dropboxusercontent.com/cd/0/inline2/BuwyunLmH6OVvcpD8k7Jv5hediIMeqq4oOHkvtGvH_YYrSkAvdiFZxDtKdSOCV-9tM8zUEr6Y-wfvSDgp_0Gc7mbFWf8gsJg_8R2Am-ceCIoDjvNh00AEkyHaXZtLCs-d25Adb8cHxasygPW7MxQYIzG0fifg7B8hGmXHXCUr8Xe1In8OtqQVKJnsbEzDCzGpofi8ogJhcZDxUFZOAJhjCyiwL2uxtwDwr4hQEF6ZcvdfPhkrZcAwp4ocp0ypU6f9E5n2OcXjJtmW-OSgHBbx2jaw7UM5SsNopUOD5d8akhhvYHuHJ2ArRzVxZmU4AgKoXRwZTZelQqlBJgsB71fKuXF1osycyuWHMO2OXK_XcqvbTBqV4_8uqOOynhLhU3tZKFsaRd9Vyq5K3NN6zE-rBJAkUs-B0B_JTAWQd_72L71Cg/file\n",
            "Reusing existing connection to ucdef1f85bef052db9da9d190604.dl.dropboxusercontent.com:443.\n",
            "HTTP request sent, awaiting response... 200 OK\n",
            "Length: 13243389 (13M) [application/octet-stream]\n",
            "Saving to: ‘doc2vec_yelp_model’\n",
            "\n",
            "doc2vec_yelp_model  100%[===================>]  12.63M  40.5MB/s    in 0.3s    \n",
            "\n",
            "2022-10-14 02:13:24 (40.5 MB/s) - ‘doc2vec_yelp_model’ saved [13243389/13243389]\n",
            "\n"
          ]
        }
      ]
    },
    {
      "cell_type": "code",
      "source": [
        "model = Doc2Vec.load(\"./doc2vec_yelp_model\")"
      ],
      "metadata": {
        "id": "c9UImHGys0W-"
      },
      "execution_count": 18,
      "outputs": []
    },
    {
      "cell_type": "code",
      "source": [
        "query = 'Best french restaurant'"
      ],
      "metadata": {
        "id": "q6UevuIjrL3y"
      },
      "execution_count": 19,
      "outputs": []
    },
    {
      "cell_type": "code",
      "source": [
        "tokenized_query = list(gensim.utils.simple_preprocess(query))"
      ],
      "metadata": {
        "id": "dRrYUm0Srl3L"
      },
      "execution_count": 20,
      "outputs": []
    },
    {
      "cell_type": "code",
      "source": [
        "inferred_vector = model.infer_vector(tokenized_query)\n",
        "print(inferred_vector)"
      ],
      "metadata": {
        "id": "orpGr66Drn0i",
        "colab": {
          "base_uri": "https://localhost:8080/"
        },
        "outputId": "968e70da-ab6a-4e22-b9e6-98e1dcade1f0"
      },
      "execution_count": 21,
      "outputs": [
        {
          "output_type": "stream",
          "name": "stdout",
          "text": [
            "[-1.12829544e-02 -1.04258088e-02  2.77897064e-02  2.16397271e-02\n",
            " -7.43641425e-03 -5.32503575e-02  4.66013001e-03  5.30003496e-02\n",
            " -9.81514063e-03 -1.51894465e-02  1.50951836e-02 -2.93885302e-02\n",
            "  2.33319588e-03  1.25207389e-02  5.46511216e-03 -3.02574951e-02\n",
            "  2.05876287e-02  1.95721025e-03 -1.54440179e-02 -4.73860800e-02\n",
            "  4.16582748e-02  2.00927053e-02  2.80141886e-02  4.12540557e-03\n",
            " -2.32190527e-02  2.56283320e-02 -3.53896804e-02  4.03887145e-02\n",
            " -3.75246815e-02 -2.75559211e-03 -1.47921769e-02 -2.25485787e-02\n",
            " -9.95553285e-03 -7.75748044e-02  3.19362991e-03 -2.34162584e-02\n",
            "  1.63865946e-02 -1.16353873e-02 -2.10999530e-02 -4.41459455e-02\n",
            " -6.91586686e-03 -2.26187799e-02 -3.33409533e-02 -5.21230586e-02\n",
            " -7.44857546e-03 -1.46856783e-02 -5.67329824e-02  1.79585759e-02\n",
            " -3.71592194e-02  3.48326052e-03  3.34467292e-02 -1.22205084e-02\n",
            " -3.07262465e-02 -2.97320411e-02 -2.87573691e-02  1.48718781e-03\n",
            " -1.83873232e-02 -4.03657593e-02 -3.14329891e-03 -5.80050983e-03\n",
            " -2.22706888e-02 -2.01777685e-02 -9.81934275e-03 -8.00635107e-03\n",
            " -2.31759064e-02  5.30994721e-02  3.16127017e-02  3.38459611e-02\n",
            " -4.16803248e-02  3.24817635e-02  2.41490663e-03  1.82590615e-02\n",
            " -7.59393582e-03 -3.05103008e-02  6.01300113e-02  3.03432401e-02\n",
            " -1.54414279e-02  4.05082442e-02 -1.35717923e-02 -4.03194167e-02\n",
            " -4.02632542e-02  3.92369553e-02  7.40098068e-03  4.34921831e-02\n",
            " -2.22422667e-02 -1.43869966e-03  1.49713652e-02  1.14697707e-03\n",
            " -6.97517674e-03  7.32658757e-03  1.43033136e-02 -6.23228634e-03\n",
            "  6.08237833e-03  9.65036015e-05  3.13378684e-02  4.57793325e-02\n",
            " -7.88443070e-03 -3.05927731e-02 -2.19214391e-02  4.85932678e-02]\n"
          ]
        }
      ]
    },
    {
      "cell_type": "code",
      "source": [
        "path = './yelp.csv'\n",
        "yelp = pd.read_csv(path)\n",
        "# Create a new DataFrame that only contains the 5-star and 1-star reviews.\n",
        "yelp_best_worst = yelp[(yelp.stars==5) | (yelp.stars==1)]\n",
        "sample_reviews = yelp_best_worst.text.sample(n=200)"
      ],
      "metadata": {
        "id": "Kt_8M1DErpBE"
      },
      "execution_count": 22,
      "outputs": []
    },
    {
      "cell_type": "code",
      "source": [
        "dir(model)"
      ],
      "metadata": {
        "colab": {
          "base_uri": "https://localhost:8080/"
        },
        "id": "-wCQM6TYPWV4",
        "outputId": "5df85c44-6467-415e-e567-da5d83f79ca5"
      },
      "execution_count": 23,
      "outputs": [
        {
          "output_type": "execute_result",
          "data": {
            "text/plain": [
              "['__class__',\n",
              " '__delattr__',\n",
              " '__dict__',\n",
              " '__dir__',\n",
              " '__doc__',\n",
              " '__eq__',\n",
              " '__format__',\n",
              " '__ge__',\n",
              " '__getattribute__',\n",
              " '__getitem__',\n",
              " '__gt__',\n",
              " '__hash__',\n",
              " '__ignoreds',\n",
              " '__init__',\n",
              " '__init_subclass__',\n",
              " '__le__',\n",
              " '__lt__',\n",
              " '__module__',\n",
              " '__ne__',\n",
              " '__new__',\n",
              " '__numpys',\n",
              " '__recursive_saveloads',\n",
              " '__reduce__',\n",
              " '__reduce_ex__',\n",
              " '__repr__',\n",
              " '__scipys',\n",
              " '__setattr__',\n",
              " '__sizeof__',\n",
              " '__str__',\n",
              " '__subclasshook__',\n",
              " '__weakref__',\n",
              " '_adapt_by_suffix',\n",
              " '_check_corpus_sanity',\n",
              " '_check_training_sanity',\n",
              " '_clear_post_train',\n",
              " '_do_train_epoch',\n",
              " '_do_train_job',\n",
              " '_get_next_alpha',\n",
              " '_get_offsets_and_start_doctags_for_corpusfile',\n",
              " '_get_thread_working_mem',\n",
              " '_job_producer',\n",
              " '_load_specials',\n",
              " '_log_epoch_end',\n",
              " '_log_epoch_progress',\n",
              " '_log_progress',\n",
              " '_log_train_end',\n",
              " '_raw_word_count',\n",
              " '_save_specials',\n",
              " '_scan_vocab',\n",
              " '_smart_save',\n",
              " '_train_epoch',\n",
              " '_train_epoch_corpusfile',\n",
              " '_worker_loop',\n",
              " '_worker_loop_corpusfile',\n",
              " 'add_lifecycle_event',\n",
              " 'add_null_word',\n",
              " 'alpha',\n",
              " 'batch_words',\n",
              " 'build_vocab',\n",
              " 'build_vocab_from_freq',\n",
              " 'cbow_mean',\n",
              " 'comment',\n",
              " 'compute_loss',\n",
              " 'corpus_count',\n",
              " 'corpus_total_words',\n",
              " 'create_binary_tree',\n",
              " 'cum_table',\n",
              " 'dbow',\n",
              " 'dbow_words',\n",
              " 'dm',\n",
              " 'dm_concat',\n",
              " 'dm_tag_count',\n",
              " 'docvecs',\n",
              " 'dv',\n",
              " 'effective_min_count',\n",
              " 'epochs',\n",
              " 'estimate_memory',\n",
              " 'estimated_lookup_memory',\n",
              " 'get_latest_training_loss',\n",
              " 'hashfxn',\n",
              " 'hs',\n",
              " 'infer_vector',\n",
              " 'init_sims',\n",
              " 'init_weights',\n",
              " 'layer1_size',\n",
              " 'lifecycle_events',\n",
              " 'load',\n",
              " 'make_cum_table',\n",
              " 'max_final_vocab',\n",
              " 'max_vocab_size',\n",
              " 'min_alpha',\n",
              " 'min_alpha_yet_reached',\n",
              " 'min_count',\n",
              " 'negative',\n",
              " 'ns_exponent',\n",
              " 'null_word',\n",
              " 'predict_output_word',\n",
              " 'prepare_vocab',\n",
              " 'prepare_weights',\n",
              " 'random',\n",
              " 'raw_vocab',\n",
              " 'reset_from',\n",
              " 'running_training_loss',\n",
              " 'sample',\n",
              " 'save',\n",
              " 'save_word2vec_format',\n",
              " 'scan_vocab',\n",
              " 'score',\n",
              " 'seed',\n",
              " 'seeded_vector',\n",
              " 'sg',\n",
              " 'shrink_windows',\n",
              " 'similarity_unseen_docs',\n",
              " 'sorted_vocab',\n",
              " 'syn1neg',\n",
              " 'total_train_time',\n",
              " 'train',\n",
              " 'train_count',\n",
              " 'update_weights',\n",
              " 'vector_size',\n",
              " 'window',\n",
              " 'workers',\n",
              " 'wv']"
            ]
          },
          "metadata": {},
          "execution_count": 23
        }
      ]
    },
    {
      "cell_type": "code",
      "source": [
        "similarities = []\n",
        "for review in sample_reviews:\n",
        "    try:\n",
        "        similarity = model.similarity_unseen_docs(doc_words1= list(gensim.utils.simple_preprocess(query)), doc_words2= list(gensim.utils.simple_preprocess(review)))\n",
        "    except KeyError:\n",
        "        similarity = 0\n",
        "    similarities.append(similarity)\n"
      ],
      "metadata": {
        "id": "6I6iCs5hr-un"
      },
      "execution_count": 27,
      "outputs": []
    },
    {
      "cell_type": "code",
      "source": [
        "reviews_with_similarities = pd.concat([sample_reviews.reset_index(drop=True), pd.Series(similarities).reset_index(drop=True)], axis=1).rename(columns={0: 'similarity', 'text': 'review'})\n"
      ],
      "metadata": {
        "id": "AExGb24QsfTm"
      },
      "execution_count": 37,
      "outputs": []
    },
    {
      "cell_type": "code",
      "source": [
        "a = reviews_with_similarities.sort_values(by=\"similarity\", ascending=False)"
      ],
      "metadata": {
        "id": "kAPC7StcspBr"
      },
      "execution_count": 38,
      "outputs": []
    },
    {
      "cell_type": "code",
      "source": [
        "\n",
        "print(f'Most similar document after reranking within retrieved results has description: \\n\\n{a[\"review\"].iloc[0]}\\n\\nWith similarity: {a[\"similarity\"].iloc[0]}\\n\\n---------\\n\\n')\n",
        "\n",
        "#%%\n",
        "\n",
        "print(f'Most similar document before reranking within retrieved results has description: \\n\\n{reviews_with_similarities[\"review\"].iloc[0]}\\n\\nWith similarity: {reviews_with_similarities[\"similarity\"].iloc[0]}\\n\\n---------\\n\\n')\n",
        "\n",
        "\n",
        "#%%\n",
        "\n",
        "print(f'Number of documents that surpass 0.5 similarity threshold: {len(a[a[\"similarity\"] >= 0.5])}')\n",
        "\n",
        "#%%"
      ],
      "metadata": {
        "id": "7Xg8RZObtQQ0",
        "colab": {
          "base_uri": "https://localhost:8080/"
        },
        "outputId": "100845ac-83ef-4333-e296-d2ff2d98e87b"
      },
      "execution_count": 41,
      "outputs": [
        {
          "output_type": "stream",
          "name": "stdout",
          "text": [
            "Most similar document after reranking within retrieved results has description: \n",
            "\n",
            "Best food, super friendly staff, and great prices. Love it!\n",
            "\n",
            "With similarity: 0.8048759698867798\n",
            "\n",
            "---------\n",
            "\n",
            "\n",
            "Most similar document before reranking within retrieved results has description: \n",
            "\n",
            "From my door, it's a five minute stroll through the greenbelt to Dukes. They have a nice patio. They have enough TVs to show all MLB/NFL/NBA games. They have plenty of shuffleboard and pool tables. Yet, I've only been to Duke's a few times and I am not going back. This place is just bad.\n",
            "\n",
            "Mixed drinks are poured short and use cheap mixers (such as bottled sour mix for margaritas). They offer a pretty basic beer selection. I think PBR pitchers might be more modestly priced, but that might be only when they're on \"special.\"\n",
            "\n",
            "The food is pretty bad, even for bar food. And pricey. Sure, the menu is gigantic and I've tried many different items, but I didn't find anything good. Everything seems to be made from \"freezer to fryer\" or packaged products. I'm not exaggerating: the burger and fries for about $8 is a thin, previously frozen patty with a handful or supermarket fries. I could go on about salads, sandwiches, and ribs. In the same price range, you can get a much better version of anything on the menu at Four Peaks or Zipps or even Devil's Advocate.\n",
            "\n",
            "One of the owners was there on a few occasions. I guess being the boss of (and drinking in) his own bar is some sort of dream of his. He treats the place like his kingdom. He'll ask patrons \"how is everything?\" and get mad at them if they have anything negative to say. I feel bad for the rest of the service staff; they seem to be above average, but when the overall situation is this bad it just doesn't matter.\n",
            "\n",
            "In this city, sports bars are a dime a dozen. I'd rather go elsewhere.\n",
            "\n",
            "With similarity: 0.19128040969371796\n",
            "\n",
            "---------\n",
            "\n",
            "\n",
            "Number of documents that surpass 0.5 similarity threshold: 31\n"
          ]
        }
      ]
    },
    {
      "cell_type": "code",
      "source": [],
      "metadata": {
        "id": "Sa-L-YPYR26w"
      },
      "execution_count": 39,
      "outputs": []
    }
  ]
}