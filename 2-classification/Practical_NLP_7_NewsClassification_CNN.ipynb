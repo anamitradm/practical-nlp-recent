{
  "cells": [
    {
      "cell_type": "markdown",
      "metadata": {
        "id": "view-in-github",
        "colab_type": "text"
      },
      "source": [
        "<a href=\"https://colab.research.google.com/github/axel-sirota/practical-nlp/blob/main/2-classification/Practical_NLP_7_NewsClassification_CNN.ipynb\" target=\"_parent\"><img src=\"https://colab.research.google.com/assets/colab-badge.svg\" alt=\"Open In Colab\"/></a>"
      ]
    },
    {
      "cell_type": "code",
      "execution_count": 71,
      "metadata": {
        "colab": {
          "base_uri": "https://localhost:8080/"
        },
        "id": "DEqSAWGgNeRx",
        "outputId": "6c0cef0f-551e-4dba-f14e-f634bfdbae26"
      },
      "outputs": [
        {
          "output_type": "stream",
          "name": "stdout",
          "text": [
            "Sat Oct 15 02:20:58 2022       \n",
            "+-----------------------------------------------------------------------------+\n",
            "| NVIDIA-SMI 460.32.03    Driver Version: 460.32.03    CUDA Version: 11.2     |\n",
            "|-------------------------------+----------------------+----------------------+\n",
            "| GPU  Name        Persistence-M| Bus-Id        Disp.A | Volatile Uncorr. ECC |\n",
            "| Fan  Temp  Perf  Pwr:Usage/Cap|         Memory-Usage | GPU-Util  Compute M. |\n",
            "|                               |                      |               MIG M. |\n",
            "|===============================+======================+======================|\n",
            "|   0  Tesla T4            Off  | 00000000:00:04.0 Off |                    0 |\n",
            "| N/A   68C    P0    30W /  70W |   1140MiB / 15109MiB |      0%      Default |\n",
            "|                               |                      |                  N/A |\n",
            "+-------------------------------+----------------------+----------------------+\n",
            "                                                                               \n",
            "+-----------------------------------------------------------------------------+\n",
            "| Processes:                                                                  |\n",
            "|  GPU   GI   CI        PID   Type   Process name                  GPU Memory |\n",
            "|        ID   ID                                                   Usage      |\n",
            "|=============================================================================|\n",
            "+-----------------------------------------------------------------------------+\n"
          ]
        }
      ],
      "source": [
        "!nvidia-smi"
      ]
    },
    {
      "cell_type": "code",
      "execution_count": 72,
      "metadata": {
        "colab": {
          "base_uri": "https://localhost:8080/"
        },
        "id": "-IY2pTPBPir1",
        "outputId": "f0eb3997-5024-4fb8-8cad-f0a575f6cbeb"
      },
      "outputs": [
        {
          "output_type": "stream",
          "name": "stdout",
          "text": [
            "Looking in indexes: https://pypi.org/simple, https://us-python.pkg.dev/colab-wheels/public/simple/\n",
            "Requirement already satisfied: textblob in /usr/local/lib/python3.7/dist-packages (0.15.3)\n",
            "Requirement already satisfied: gensim==4.2.0 in /usr/local/lib/python3.7/dist-packages (4.2.0)\n",
            "Requirement already satisfied: numpy>=1.17.0 in /usr/local/lib/python3.7/dist-packages (from gensim==4.2.0) (1.21.6)\n",
            "Requirement already satisfied: scipy>=0.18.1 in /usr/local/lib/python3.7/dist-packages (from gensim==4.2.0) (1.7.3)\n",
            "Requirement already satisfied: smart-open>=1.8.1 in /usr/local/lib/python3.7/dist-packages (from gensim==4.2.0) (5.2.1)\n",
            "Requirement already satisfied: nltk>=3.1 in /usr/local/lib/python3.7/dist-packages (from textblob) (3.7)\n",
            "Requirement already satisfied: click in /usr/local/lib/python3.7/dist-packages (from nltk>=3.1->textblob) (7.1.2)\n",
            "Requirement already satisfied: regex>=2021.8.3 in /usr/local/lib/python3.7/dist-packages (from nltk>=3.1->textblob) (2022.6.2)\n",
            "Requirement already satisfied: joblib in /usr/local/lib/python3.7/dist-packages (from nltk>=3.1->textblob) (1.2.0)\n",
            "Requirement already satisfied: tqdm in /usr/local/lib/python3.7/dist-packages (from nltk>=3.1->textblob) (4.64.1)\n"
          ]
        }
      ],
      "source": [
        "!pip install textblob 'gensim==4.2.0'"
      ]
    },
    {
      "cell_type": "code",
      "execution_count": 73,
      "metadata": {
        "id": "5gZklVraP2vn",
        "colab": {
          "base_uri": "https://localhost:8080/"
        },
        "outputId": "27a465cd-2b95-4987-f7c7-3bd87c7e5f9a"
      },
      "outputs": [
        {
          "output_type": "stream",
          "name": "stderr",
          "text": [
            "[nltk_data] Downloading package punkt to /root/nltk_data...\n",
            "[nltk_data]   Package punkt is already up-to-date!\n"
          ]
        }
      ],
      "source": [
        "import multiprocessing\n",
        "import tensorflow as tf\n",
        "import sys\n",
        "import keras.backend as K\n",
        "from keras.models import Sequential\n",
        "from keras.layers import Dense, Embedding, Lambda, ELU, Conv1D, MaxPooling1D, Dropout\n",
        "from keras.utils import np_utils\n",
        "from keras.preprocessing import sequence\n",
        "from keras.preprocessing.text import Tokenizer\n",
        "from textblob import TextBlob, Word\n",
        "from keras_preprocessing.sequence import pad_sequences\n",
        "from keras.initializers import Constant\n",
        "import numpy as np\n",
        "import random\n",
        "import os\n",
        "import pandas as pd\n",
        "import gensim\n",
        "import warnings\n",
        "import nltk\n",
        "import pickle\n",
        "from tensorflow.nn import leaky_relu\n",
        "\n",
        "import re\n",
        "import warnings\n",
        "from sklearn.model_selection import train_test_split\n",
        "from textblob import TextBlob\n",
        "\n",
        "\n",
        "TRACE = False\n",
        "embedding_dim = 300\n",
        "n_channels = 64\n",
        "p_dropout = 0.2\n",
        "epochs=1000\n",
        "batch_size = 500\n",
        "corpus_size=100000\n",
        "BATCH = True\n",
        "\n",
        "def set_seeds_and_trace():\n",
        "  os.environ['PYTHONHASHSEED'] = '0'\n",
        "  np.random.seed(42)\n",
        "  tf.random.set_seed(42)\n",
        "  random.seed(42)\n",
        "  if TRACE:\n",
        "    tf.debugging.set_log_device_placement(True)\n",
        "\n",
        "def set_session_with_gpus_and_cores():\n",
        "  cores = multiprocessing.cpu_count()\n",
        "  gpus = len(tf.config.list_physical_devices('GPU'))\n",
        "  config = tf.compat.v1.ConfigProto( device_count = {'GPU': gpus  , 'CPU': cores} , intra_op_parallelism_threads=1, inter_op_parallelism_threads=1)\n",
        "  sess = tf.compat.v1.Session(config=config) \n",
        "  K.set_session(sess)\n",
        "\n",
        "set_seeds_and_trace()\n",
        "set_session_with_gpus_and_cores()\n",
        "warnings.filterwarnings('ignore')\n",
        "nltk.download('punkt')\n",
        "tokenizer = lambda x: TextBlob(x).words"
      ]
    },
    {
      "cell_type": "code",
      "execution_count": 74,
      "metadata": {
        "id": "I0DZp9-YP8Fa",
        "colab": {
          "base_uri": "https://localhost:8080/"
        },
        "outputId": "4804d0d5-e355-4500-afc1-e2f69e014220"
      },
      "outputs": [
        {
          "output_type": "stream",
          "name": "stdout",
          "text": [
            "Overwriting get_data.sh\n"
          ]
        }
      ],
      "source": [
        "%%writefile get_data.sh\n",
        "if [ ! -f news.csv ]; then\n",
        "  wget -O news.csv https://www.dropbox.com/s/352x7xzivf60zgc/news.csv?dl=0\n",
        "fi\n",
        "\n",
        "if [ ! -f emb_word2vec_format.txt ]; then\n",
        "    wget -O emb_word2vec_format.txt https://www.dropbox.com/s/cqoacnovxsq1zoe/emb_word2vec_format.txt?dl=0\n",
        "fi"
      ]
    },
    {
      "cell_type": "code",
      "execution_count": 75,
      "metadata": {
        "id": "Arc-2X3AS2dI"
      },
      "outputs": [],
      "source": [
        "!bash get_data.sh"
      ]
    },
    {
      "cell_type": "code",
      "execution_count": 76,
      "metadata": {
        "id": "qIsjpoQMS5tT"
      },
      "outputs": [],
      "source": [
        "path = './news.csv'\n",
        "news = pd.read_csv(path, header=0).sample(n=corpus_size).reset_index(drop=True)"
      ]
    },
    {
      "cell_type": "code",
      "execution_count": 77,
      "metadata": {
        "id": "e48igNipS-7m"
      },
      "outputs": [],
      "source": [
        "def preprocess_text(text, should_join=True):\n",
        "    text = ' '.join(word.lower() for word in text.split(\" \"))\n",
        "    text = re.sub(r\"([.,!?])\", r\" \\1 \", text)\n",
        "    text = re.sub(r\"[^a-zA-Z.,!?]+\", r\" \", text)\n",
        "    if should_join:\n",
        "      return ' '.join(gensim.utils.simple_preprocess(text))\n",
        "    else:\n",
        "      return gensim.utils.simple_preprocess(text)"
      ]
    },
    {
      "cell_type": "code",
      "execution_count": 78,
      "metadata": {
        "id": "AmuzxBe0S-45",
        "colab": {
          "base_uri": "https://localhost:8080/",
          "height": 424
        },
        "outputId": "63e539f1-32a4-4ed3-b14b-7846ce946e48"
      },
      "outputs": [
        {
          "output_type": "execute_result",
          "data": {
            "text/plain": [
              "       category                                              title\n",
              "0      Business       BBC set for major shake-up, claims newspaper\n",
              "1      Business                           Marsh averts cash crunch\n",
              "2        Sports           Jeter, Yankees Look to Take Control (AP)\n",
              "3      Sci/Tech                           Flying the Sun to Safety\n",
              "4      Business           Stocks Seen Flat as Nortel and Oil Weigh\n",
              "...         ...                                                ...\n",
              "99995    Sports                                Raptors 94, Heat 92\n",
              "99996  Sci/Tech                     The Making of an X Box Warrior\n",
              "99997    Sports  Turner confident Illini can rebound from 35-17...\n",
              "99998  Business                               Intel lifts forecast\n",
              "99999  Sci/Tech       Competitors Pounce on CA #39;s Netegrity Buy\n",
              "\n",
              "[100000 rows x 2 columns]"
            ],
            "text/html": [
              "\n",
              "  <div id=\"df-f926d0e2-72f4-4191-800b-7fdceee4cf72\">\n",
              "    <div class=\"colab-df-container\">\n",
              "      <div>\n",
              "<style scoped>\n",
              "    .dataframe tbody tr th:only-of-type {\n",
              "        vertical-align: middle;\n",
              "    }\n",
              "\n",
              "    .dataframe tbody tr th {\n",
              "        vertical-align: top;\n",
              "    }\n",
              "\n",
              "    .dataframe thead th {\n",
              "        text-align: right;\n",
              "    }\n",
              "</style>\n",
              "<table border=\"1\" class=\"dataframe\">\n",
              "  <thead>\n",
              "    <tr style=\"text-align: right;\">\n",
              "      <th></th>\n",
              "      <th>category</th>\n",
              "      <th>title</th>\n",
              "    </tr>\n",
              "  </thead>\n",
              "  <tbody>\n",
              "    <tr>\n",
              "      <th>0</th>\n",
              "      <td>Business</td>\n",
              "      <td>BBC set for major shake-up, claims newspaper</td>\n",
              "    </tr>\n",
              "    <tr>\n",
              "      <th>1</th>\n",
              "      <td>Business</td>\n",
              "      <td>Marsh averts cash crunch</td>\n",
              "    </tr>\n",
              "    <tr>\n",
              "      <th>2</th>\n",
              "      <td>Sports</td>\n",
              "      <td>Jeter, Yankees Look to Take Control (AP)</td>\n",
              "    </tr>\n",
              "    <tr>\n",
              "      <th>3</th>\n",
              "      <td>Sci/Tech</td>\n",
              "      <td>Flying the Sun to Safety</td>\n",
              "    </tr>\n",
              "    <tr>\n",
              "      <th>4</th>\n",
              "      <td>Business</td>\n",
              "      <td>Stocks Seen Flat as Nortel and Oil Weigh</td>\n",
              "    </tr>\n",
              "    <tr>\n",
              "      <th>...</th>\n",
              "      <td>...</td>\n",
              "      <td>...</td>\n",
              "    </tr>\n",
              "    <tr>\n",
              "      <th>99995</th>\n",
              "      <td>Sports</td>\n",
              "      <td>Raptors 94, Heat 92</td>\n",
              "    </tr>\n",
              "    <tr>\n",
              "      <th>99996</th>\n",
              "      <td>Sci/Tech</td>\n",
              "      <td>The Making of an X Box Warrior</td>\n",
              "    </tr>\n",
              "    <tr>\n",
              "      <th>99997</th>\n",
              "      <td>Sports</td>\n",
              "      <td>Turner confident Illini can rebound from 35-17...</td>\n",
              "    </tr>\n",
              "    <tr>\n",
              "      <th>99998</th>\n",
              "      <td>Business</td>\n",
              "      <td>Intel lifts forecast</td>\n",
              "    </tr>\n",
              "    <tr>\n",
              "      <th>99999</th>\n",
              "      <td>Sci/Tech</td>\n",
              "      <td>Competitors Pounce on CA #39;s Netegrity Buy</td>\n",
              "    </tr>\n",
              "  </tbody>\n",
              "</table>\n",
              "<p>100000 rows × 2 columns</p>\n",
              "</div>\n",
              "      <button class=\"colab-df-convert\" onclick=\"convertToInteractive('df-f926d0e2-72f4-4191-800b-7fdceee4cf72')\"\n",
              "              title=\"Convert this dataframe to an interactive table.\"\n",
              "              style=\"display:none;\">\n",
              "        \n",
              "  <svg xmlns=\"http://www.w3.org/2000/svg\" height=\"24px\"viewBox=\"0 0 24 24\"\n",
              "       width=\"24px\">\n",
              "    <path d=\"M0 0h24v24H0V0z\" fill=\"none\"/>\n",
              "    <path d=\"M18.56 5.44l.94 2.06.94-2.06 2.06-.94-2.06-.94-.94-2.06-.94 2.06-2.06.94zm-11 1L8.5 8.5l.94-2.06 2.06-.94-2.06-.94L8.5 2.5l-.94 2.06-2.06.94zm10 10l.94 2.06.94-2.06 2.06-.94-2.06-.94-.94-2.06-.94 2.06-2.06.94z\"/><path d=\"M17.41 7.96l-1.37-1.37c-.4-.4-.92-.59-1.43-.59-.52 0-1.04.2-1.43.59L10.3 9.45l-7.72 7.72c-.78.78-.78 2.05 0 2.83L4 21.41c.39.39.9.59 1.41.59.51 0 1.02-.2 1.41-.59l7.78-7.78 2.81-2.81c.8-.78.8-2.07 0-2.86zM5.41 20L4 18.59l7.72-7.72 1.47 1.35L5.41 20z\"/>\n",
              "  </svg>\n",
              "      </button>\n",
              "      \n",
              "  <style>\n",
              "    .colab-df-container {\n",
              "      display:flex;\n",
              "      flex-wrap:wrap;\n",
              "      gap: 12px;\n",
              "    }\n",
              "\n",
              "    .colab-df-convert {\n",
              "      background-color: #E8F0FE;\n",
              "      border: none;\n",
              "      border-radius: 50%;\n",
              "      cursor: pointer;\n",
              "      display: none;\n",
              "      fill: #1967D2;\n",
              "      height: 32px;\n",
              "      padding: 0 0 0 0;\n",
              "      width: 32px;\n",
              "    }\n",
              "\n",
              "    .colab-df-convert:hover {\n",
              "      background-color: #E2EBFA;\n",
              "      box-shadow: 0px 1px 2px rgba(60, 64, 67, 0.3), 0px 1px 3px 1px rgba(60, 64, 67, 0.15);\n",
              "      fill: #174EA6;\n",
              "    }\n",
              "\n",
              "    [theme=dark] .colab-df-convert {\n",
              "      background-color: #3B4455;\n",
              "      fill: #D2E3FC;\n",
              "    }\n",
              "\n",
              "    [theme=dark] .colab-df-convert:hover {\n",
              "      background-color: #434B5C;\n",
              "      box-shadow: 0px 1px 3px 1px rgba(0, 0, 0, 0.15);\n",
              "      filter: drop-shadow(0px 1px 2px rgba(0, 0, 0, 0.3));\n",
              "      fill: #FFFFFF;\n",
              "    }\n",
              "  </style>\n",
              "\n",
              "      <script>\n",
              "        const buttonEl =\n",
              "          document.querySelector('#df-f926d0e2-72f4-4191-800b-7fdceee4cf72 button.colab-df-convert');\n",
              "        buttonEl.style.display =\n",
              "          google.colab.kernel.accessAllowed ? 'block' : 'none';\n",
              "\n",
              "        async function convertToInteractive(key) {\n",
              "          const element = document.querySelector('#df-f926d0e2-72f4-4191-800b-7fdceee4cf72');\n",
              "          const dataTable =\n",
              "            await google.colab.kernel.invokeFunction('convertToInteractive',\n",
              "                                                     [key], {});\n",
              "          if (!dataTable) return;\n",
              "\n",
              "          const docLinkHtml = 'Like what you see? Visit the ' +\n",
              "            '<a target=\"_blank\" href=https://colab.research.google.com/notebooks/data_table.ipynb>data table notebook</a>'\n",
              "            + ' to learn more about interactive tables.';\n",
              "          element.innerHTML = '';\n",
              "          dataTable['output_type'] = 'display_data';\n",
              "          await google.colab.output.renderOutput(dataTable, element);\n",
              "          const docLink = document.createElement('div');\n",
              "          docLink.innerHTML = docLinkHtml;\n",
              "          element.appendChild(docLink);\n",
              "        }\n",
              "      </script>\n",
              "    </div>\n",
              "  </div>\n",
              "  "
            ]
          },
          "metadata": {},
          "execution_count": 78
        }
      ],
      "source": [
        "news.title.apply(preprocess_text)\n",
        "news"
      ]
    },
    {
      "cell_type": "code",
      "execution_count": 79,
      "metadata": {
        "id": "BI4j9GohS-1k"
      },
      "outputs": [],
      "source": [
        "from gensim.test.utils import datapath\n",
        "from gensim import utils\n",
        "\n",
        "class MyCorpus:\n",
        "    \"\"\"An iterator that yields sentences (lists of str).\"\"\"\n",
        "\n",
        "    def __iter__(self):\n",
        "        corpus_path = 'news.csv'\n",
        "        for line in open(corpus_path):\n",
        "            # assume there's one document per line, tokens separated by whitespace\n",
        "            yield preprocess_text(line, should_join=False)\n",
        "\n",
        "import gensim.models\n",
        "\n",
        "sentences = MyCorpus()\n",
        "word2vec = gensim.models.Word2Vec(sentences=sentences, vector_size=embedding_dim)\n",
        "word2vec_model = word2vec.wv"
      ]
    },
    {
      "cell_type": "code",
      "execution_count": 80,
      "metadata": {
        "id": "g02Wjl0NS-y2"
      },
      "outputs": [],
      "source": [
        "news['label'] = news.category.map({'Business': 0, 'Sports': 1, 'Sci/Tech': 2, 'World': 3})\n",
        "\n",
        "weights = tf.constant(word2vec_model.vectors)\n",
        "vocab_size = len(word2vec_model.index_to_key)"
      ]
    },
    {
      "cell_type": "code",
      "source": [
        "weights.shape"
      ],
      "metadata": {
        "colab": {
          "base_uri": "https://localhost:8080/"
        },
        "id": "qS0pq9sbO7hy",
        "outputId": "6c3cf44e-b68e-4370-b70c-155d93ba0f43"
      },
      "execution_count": 81,
      "outputs": [
        {
          "output_type": "execute_result",
          "data": {
            "text/plain": [
              "TensorShape([12343, 300])"
            ]
          },
          "metadata": {},
          "execution_count": 81
        }
      ]
    },
    {
      "cell_type": "code",
      "execution_count": 82,
      "metadata": {
        "id": "4Fsl1VwnVJoz"
      },
      "outputs": [],
      "source": [
        "def get_maximum_review_length(df):\n",
        "    maximum = 0\n",
        "    for ix, row in df.iterrows():\n",
        "        candidate = len(tokenizer(row.title))\n",
        "        if candidate > maximum:\n",
        "            maximum = candidate\n",
        "    return maximum\n",
        "\n",
        "\n",
        "maximum = get_maximum_review_length(news)"
      ]
    },
    {
      "cell_type": "code",
      "execution_count": 83,
      "metadata": {
        "id": "7cFi0e_sVJmh"
      },
      "outputs": [],
      "source": [
        "X = np.zeros((len(news), maximum))\n",
        "for index, row in news.iterrows():\n",
        "    ix = 0\n",
        "    for word in tokenizer(row.title):\n",
        "        if word not in word2vec_model:\n",
        "            representation = 0\n",
        "        else:\n",
        "            representation = word2vec_model.index_to_key.index(word)\n",
        "        X[index, ix] = representation\n",
        "        ix += 1\n",
        "y = news.label"
      ]
    },
    {
      "cell_type": "code",
      "execution_count": 84,
      "metadata": {
        "id": "HspIJVUBVJkF"
      },
      "outputs": [],
      "source": [
        "X_train, X_test, y_train, y_test = train_test_split(X, y, test_size=0.2, random_state=42)\n",
        "X_train = tf.constant(X_train)\n",
        "X_test = tf.constant(X_test)\n",
        "y_train = tf.one_hot(tf.constant(y_train), 4)\n",
        "y_test = tf.one_hot(tf.constant(y_test), 4)"
      ]
    },
    {
      "cell_type": "code",
      "execution_count": 85,
      "metadata": {
        "colab": {
          "base_uri": "https://localhost:8080/"
        },
        "id": "8z5V4riHX8lf",
        "outputId": "11b09dac-4a5d-4368-c34c-24d7c2b3598e"
      },
      "outputs": [
        {
          "output_type": "execute_result",
          "data": {
            "text/plain": [
              "<tf.Tensor: shape=(23,), dtype=float64, numpy=\n",
              "array([0., 0., 0., 8., 0., 0., 0., 0., 0., 0., 0., 0., 0., 0., 0., 0., 0.,\n",
              "       0., 0., 0., 0., 0., 0.])>"
            ]
          },
          "metadata": {},
          "execution_count": 85
        }
      ],
      "source": [
        "X_train[0]"
      ]
    },
    {
      "cell_type": "code",
      "execution_count": 85,
      "metadata": {
        "id": "FSvBEG4_aV-3"
      },
      "outputs": [],
      "source": []
    },
    {
      "cell_type": "code",
      "execution_count": 86,
      "metadata": {
        "colab": {
          "base_uri": "https://localhost:8080/"
        },
        "id": "YWpiksEJYWyr",
        "outputId": "8b3abf77-0c8d-468f-d68c-365996ca9c26"
      },
      "outputs": [
        {
          "output_type": "execute_result",
          "data": {
            "text/plain": [
              "TensorShape([12343, 300])"
            ]
          },
          "metadata": {},
          "execution_count": 86
        }
      ],
      "source": [
        "weights.shape"
      ]
    },
    {
      "cell_type": "code",
      "execution_count": 87,
      "metadata": {
        "id": "FzrIQ4G0VJhh"
      },
      "outputs": [],
      "source": [
        "model = Sequential()\n",
        "model.add(Embedding(input_dim=weights.shape[0], output_dim=embedding_dim, input_length=maximum, embeddings_initializer=Constant(weights), trainable=True))\n",
        "model.add(Conv1D(filters=n_channels, kernel_size=3, padding='same', data_format='channels_first'))\n",
        "model.add(ELU())\n",
        "model.add(Conv1D(filters=2*n_channels, kernel_size=3, padding='same', data_format='channels_first'))\n",
        "model.add(ELU())\n",
        "model.add(Lambda(lambda x: K.mean(x, axis=2)))\n",
        "model.add(Dense(50, activation=leaky_relu))\n",
        "model.add(Dropout(rate=p_dropout))\n",
        "model.add(Dense(4, activation='softmax'))"
      ]
    },
    {
      "cell_type": "code",
      "execution_count": 88,
      "metadata": {
        "id": "8T-hPDiIVJe9",
        "colab": {
          "base_uri": "https://localhost:8080/"
        },
        "outputId": "90f86bac-c290-48c8-8f7e-905727e6dd35"
      },
      "outputs": [
        {
          "output_type": "stream",
          "name": "stdout",
          "text": [
            "Model: \"sequential_10\"\n",
            "_________________________________________________________________\n",
            " Layer (type)                Output Shape              Param #   \n",
            "=================================================================\n",
            " embedding_10 (Embedding)    (None, 23, 300)           3702900   \n",
            "                                                                 \n",
            " conv1d_19 (Conv1D)          (None, 64, 300)           4480      \n",
            "                                                                 \n",
            " elu_19 (ELU)                (None, 64, 300)           0         \n",
            "                                                                 \n",
            " conv1d_20 (Conv1D)          (None, 128, 300)          24704     \n",
            "                                                                 \n",
            " elu_20 (ELU)                (None, 128, 300)          0         \n",
            "                                                                 \n",
            " lambda_9 (Lambda)           (None, 128)               0         \n",
            "                                                                 \n",
            " dense_18 (Dense)            (None, 50)                6450      \n",
            "                                                                 \n",
            " dropout_9 (Dropout)         (None, 50)                0         \n",
            "                                                                 \n",
            " dense_19 (Dense)            (None, 4)                 204       \n",
            "                                                                 \n",
            "=================================================================\n",
            "Total params: 3,738,738\n",
            "Trainable params: 3,738,738\n",
            "Non-trainable params: 0\n",
            "_________________________________________________________________\n"
          ]
        }
      ],
      "source": [
        "model.compile(loss=tf.keras.losses.BinaryCrossentropy(from_logits=True), optimizer='adam', metrics='accuracy')\n",
        "model.summary()"
      ]
    },
    {
      "cell_type": "code",
      "execution_count": 89,
      "metadata": {
        "id": "XCQiCKLSVJcg",
        "colab": {
          "base_uri": "https://localhost:8080/"
        },
        "outputId": "81e48170-0919-42d8-f644-3fdbad8ee7c5"
      },
      "outputs": [
        {
          "output_type": "stream",
          "name": "stdout",
          "text": [
            "Epoch 1/1000\n",
            "160/160 [==============================] - 4s 23ms/step - loss: 0.5680 - accuracy: 0.2709 - val_loss: 0.5393 - val_accuracy: 0.3564\n",
            "Epoch 2/1000\n",
            "160/160 [==============================] - 4s 22ms/step - loss: 0.5167 - accuracy: 0.3840 - val_loss: 0.5046 - val_accuracy: 0.4129\n",
            "Epoch 3/1000\n",
            "160/160 [==============================] - 4s 24ms/step - loss: 0.4897 - accuracy: 0.4357 - val_loss: 0.4900 - val_accuracy: 0.4365\n",
            "Epoch 4/1000\n",
            "160/160 [==============================] - 4s 22ms/step - loss: 0.4724 - accuracy: 0.4633 - val_loss: 0.4854 - val_accuracy: 0.4480\n",
            "Epoch 5/1000\n",
            "160/160 [==============================] - 3s 22ms/step - loss: 0.4636 - accuracy: 0.4809 - val_loss: 0.4805 - val_accuracy: 0.4646\n",
            "Epoch 6/1000\n",
            "160/160 [==============================] - 4s 25ms/step - loss: 0.4549 - accuracy: 0.4945 - val_loss: 0.4767 - val_accuracy: 0.4712\n",
            "Epoch 7/1000\n",
            "160/160 [==============================] - 3s 22ms/step - loss: 0.4455 - accuracy: 0.5098 - val_loss: 0.4684 - val_accuracy: 0.4897\n",
            "Epoch 8/1000\n",
            "160/160 [==============================] - 4s 22ms/step - loss: 0.4341 - accuracy: 0.5257 - val_loss: 0.4639 - val_accuracy: 0.4983\n",
            "Epoch 9/1000\n",
            "160/160 [==============================] - 4s 22ms/step - loss: 0.4251 - accuracy: 0.5385 - val_loss: 0.4589 - val_accuracy: 0.5039\n",
            "Epoch 10/1000\n",
            "160/160 [==============================] - 4s 22ms/step - loss: 0.4175 - accuracy: 0.5468 - val_loss: 0.4580 - val_accuracy: 0.5113\n",
            "Epoch 11/1000\n",
            "160/160 [==============================] - 4s 22ms/step - loss: 0.4118 - accuracy: 0.5542 - val_loss: 0.4556 - val_accuracy: 0.5195\n",
            "Epoch 12/1000\n",
            "160/160 [==============================] - 4s 22ms/step - loss: 0.4060 - accuracy: 0.5598 - val_loss: 0.4559 - val_accuracy: 0.5097\n",
            "Epoch 13/1000\n",
            "160/160 [==============================] - 4s 25ms/step - loss: 0.4004 - accuracy: 0.5671 - val_loss: 0.4564 - val_accuracy: 0.5217\n",
            "Epoch 14/1000\n",
            "160/160 [==============================] - 4s 23ms/step - loss: 0.3964 - accuracy: 0.5713 - val_loss: 0.4574 - val_accuracy: 0.5227\n",
            "Epoch 15/1000\n",
            "160/160 [==============================] - 4s 22ms/step - loss: 0.3915 - accuracy: 0.5774 - val_loss: 0.4560 - val_accuracy: 0.5235\n",
            "Epoch 16/1000\n",
            "160/160 [==============================] - 4s 22ms/step - loss: 0.3881 - accuracy: 0.5790 - val_loss: 0.4584 - val_accuracy: 0.5247\n",
            "Epoch 17/1000\n",
            "160/160 [==============================] - 4s 22ms/step - loss: 0.3838 - accuracy: 0.5836 - val_loss: 0.4651 - val_accuracy: 0.5222\n",
            "Epoch 18/1000\n",
            "160/160 [==============================] - 3s 22ms/step - loss: 0.3796 - accuracy: 0.5899 - val_loss: 0.4692 - val_accuracy: 0.5143\n",
            "Epoch 19/1000\n",
            "160/160 [==============================] - 4s 22ms/step - loss: 0.3757 - accuracy: 0.5906 - val_loss: 0.4669 - val_accuracy: 0.5196\n",
            "Epoch 20/1000\n",
            "160/160 [==============================] - 3s 22ms/step - loss: 0.3706 - accuracy: 0.5947 - val_loss: 0.4686 - val_accuracy: 0.5293\n",
            "Epoch 21/1000\n",
            "160/160 [==============================] - 4s 22ms/step - loss: 0.3668 - accuracy: 0.5996 - val_loss: 0.4742 - val_accuracy: 0.5265\n",
            "Epoch 22/1000\n",
            "160/160 [==============================] - 4s 22ms/step - loss: 0.3617 - accuracy: 0.6057 - val_loss: 0.4828 - val_accuracy: 0.5286\n",
            "Epoch 23/1000\n",
            "160/160 [==============================] - 3s 22ms/step - loss: 0.3568 - accuracy: 0.6107 - val_loss: 0.4818 - val_accuracy: 0.5313\n",
            "Epoch 24/1000\n",
            "160/160 [==============================] - 3s 22ms/step - loss: 0.3524 - accuracy: 0.6122 - val_loss: 0.4952 - val_accuracy: 0.5309\n",
            "Epoch 25/1000\n",
            "160/160 [==============================] - 4s 22ms/step - loss: 0.3475 - accuracy: 0.6179 - val_loss: 0.5008 - val_accuracy: 0.5179\n",
            "Epoch 26/1000\n",
            "160/160 [==============================] - 4s 22ms/step - loss: 0.3419 - accuracy: 0.6230 - val_loss: 0.5144 - val_accuracy: 0.5318\n",
            "Epoch 27/1000\n",
            "160/160 [==============================] - 3s 22ms/step - loss: 0.3378 - accuracy: 0.6263 - val_loss: 0.5112 - val_accuracy: 0.5163\n",
            "Epoch 28/1000\n",
            "160/160 [==============================] - 4s 22ms/step - loss: 0.3323 - accuracy: 0.6296 - val_loss: 0.5226 - val_accuracy: 0.5224\n",
            "Epoch 29/1000\n",
            "160/160 [==============================] - 3s 22ms/step - loss: 0.3286 - accuracy: 0.6332 - val_loss: 0.5295 - val_accuracy: 0.5280\n",
            "Epoch 30/1000\n",
            "160/160 [==============================] - 3s 22ms/step - loss: 0.3244 - accuracy: 0.6373 - val_loss: 0.5430 - val_accuracy: 0.5209\n",
            "Epoch 31/1000\n",
            "160/160 [==============================] - 3s 22ms/step - loss: 0.3199 - accuracy: 0.6427 - val_loss: 0.5520 - val_accuracy: 0.5188\n",
            "Epoch 32/1000\n",
            "160/160 [==============================] - 3s 22ms/step - loss: 0.3168 - accuracy: 0.6421 - val_loss: 0.5624 - val_accuracy: 0.5279\n",
            "Epoch 33/1000\n",
            "160/160 [==============================] - 4s 22ms/step - loss: 0.3129 - accuracy: 0.6477 - val_loss: 0.5685 - val_accuracy: 0.5261\n",
            "Epoch 34/1000\n",
            "160/160 [==============================] - 3s 22ms/step - loss: 0.3088 - accuracy: 0.6504 - val_loss: 0.5788 - val_accuracy: 0.5149\n",
            "Epoch 35/1000\n",
            "160/160 [==============================] - 4s 22ms/step - loss: 0.3067 - accuracy: 0.6520 - val_loss: 0.5932 - val_accuracy: 0.5232\n",
            "Epoch 36/1000\n",
            "160/160 [==============================] - 4s 22ms/step - loss: 0.3036 - accuracy: 0.6530 - val_loss: 0.5953 - val_accuracy: 0.5253\n",
            "Epoch 37/1000\n",
            "160/160 [==============================] - 3s 22ms/step - loss: 0.3013 - accuracy: 0.6560 - val_loss: 0.6099 - val_accuracy: 0.5256\n",
            "Epoch 38/1000\n",
            "160/160 [==============================] - 4s 22ms/step - loss: 0.2992 - accuracy: 0.6569 - val_loss: 0.6116 - val_accuracy: 0.5159\n",
            "Epoch 39/1000\n",
            "160/160 [==============================] - 3s 22ms/step - loss: 0.2966 - accuracy: 0.6591 - val_loss: 0.6279 - val_accuracy: 0.5088\n",
            "Epoch 40/1000\n",
            "160/160 [==============================] - 4s 22ms/step - loss: 0.2966 - accuracy: 0.6588 - val_loss: 0.6280 - val_accuracy: 0.5104\n",
            "Epoch 41/1000\n",
            "160/160 [==============================] - 3s 22ms/step - loss: 0.2939 - accuracy: 0.6604 - val_loss: 0.6283 - val_accuracy: 0.5130\n",
            "Epoch 42/1000\n",
            "160/160 [==============================] - 3s 22ms/step - loss: 0.2919 - accuracy: 0.6626 - val_loss: 0.6357 - val_accuracy: 0.5146\n",
            "Epoch 43/1000\n",
            "160/160 [==============================] - 4s 22ms/step - loss: 0.2903 - accuracy: 0.6642 - val_loss: 0.6516 - val_accuracy: 0.5232\n",
            "Epoch 44/1000\n",
            "160/160 [==============================] - 4s 22ms/step - loss: 0.2916 - accuracy: 0.6626 - val_loss: 0.6468 - val_accuracy: 0.5073\n"
          ]
        }
      ],
      "source": [
        "callback = tf.keras.callbacks.EarlyStopping(monitor='loss', patience=5, min_delta=0.01)\n",
        "history = model.fit(x=X_train, y=y_train, epochs=epochs, batch_size=batch_size, validation_data=(X_test, y_test), workers=5, callbacks=[callback])"
      ]
    },
    {
      "cell_type": "code",
      "execution_count": 90,
      "metadata": {
        "id": "tDKdanUVa4GT",
        "colab": {
          "base_uri": "https://localhost:8080/",
          "height": 281
        },
        "outputId": "9e568926-36d8-40a0-c0fc-2022bc2d8375"
      },
      "outputs": [
        {
          "output_type": "display_data",
          "data": {
            "text/plain": [
              "<Figure size 432x288 with 1 Axes>"
            ],
            "image/png": "[encoded data removed]"
          },
          "metadata": {
            "needs_background": "light"
          }
        }
      ],
      "source": [
        "import matplotlib.pyplot as plt\n",
        "\n",
        "# function for plotting loss\n",
        "def plot_metrics(train_metric, val_metric=None, metric_name=None, title=None, ylim=5):\n",
        "    plt.title(title)\n",
        "    plt.ylim(0,ylim)\n",
        "    plt.plot(train_metric,color='blue',label=metric_name)\n",
        "    if val_metric is not None: plt.plot(val_metric,color='green',label='val_' + metric_name)\n",
        "    plt.legend(loc=\"upper right\")\n",
        "\n",
        "# plot loss history\n",
        "plot_metrics(history.history['loss'], history.history['val_loss'], \"Loss\", \"Loss\", ylim=2.0)"
      ]
    },
    {
      "cell_type": "code",
      "source": [
        "plot_metrics(history.history['accuracy'], history.history['val_accuracy'], \"Accuracy\", \"Acurracy\", ylim=1.0)"
      ],
      "metadata": {
        "colab": {
          "base_uri": "https://localhost:8080/",
          "height": 281
        },
        "id": "DSmRIcRxbzin",
        "outputId": "8e253189-a1ee-4898-b480-52442d01999f"
      },
      "execution_count": 91,
      "outputs": [
        {
          "output_type": "display_data",
          "data": {
            "text/plain": [
              "<Figure size 432x288 with 1 Axes>"
            ],
            "image/png": "[encoded data removed]"
          },
          "metadata": {
            "needs_background": "light"
          }
        }
      ]
    },
    {
      "cell_type": "code",
      "execution_count": 92,
      "metadata": {
        "id": "g3N8INqJczF0"
      },
      "outputs": [],
      "source": [
        "x_val = np.zeros((2, maximum))\n",
        "for index, row in enumerate(['supercomputer will put workers jobless soon', 'patriots goes winning super bowl']):\n",
        "    ix = 0\n",
        "    for word in tokenizer(row):\n",
        "        if word not in word2vec_model:\n",
        "            representation = 0\n",
        "        else:\n",
        "            representation = word2vec_model.index_to_key.index(word)\n",
        "        x_val[index, ix] = representation\n",
        "        ix += 1\n",
        "y_val = tf.one_hot([0,1], depth=4)"
      ]
    },
    {
      "cell_type": "code",
      "execution_count": 93,
      "metadata": {
        "id": "JcqS9NGOLYVP",
        "colab": {
          "base_uri": "https://localhost:8080/"
        },
        "outputId": "306b76d0-7582-4a37-982d-7cd9a76e4cb7"
      },
      "outputs": [
        {
          "output_type": "execute_result",
          "data": {
            "text/plain": [
              "array([[ 979.,   56.,  530.,  353.,  977.,  978.,    0.,    0.,    0.,\n",
              "           0.,    0.,    0.,    0.,    0.,    0.,    0.,    0.,    0.,\n",
              "           0.,    0.,    0.,    0.,    0.],\n",
              "       [ 997.,  309.,  992., 1359.,  991.,    0.,    0.,    0.,    0.,\n",
              "           0.,    0.,    0.,    0.,    0.,    0.,    0.,    0.,    0.,\n",
              "           0.,    0.,    0.,    0.,    0.]])"
            ]
          },
          "metadata": {},
          "execution_count": 93
        }
      ],
      "source": [
        "x_val"
      ]
    },
    {
      "cell_type": "code",
      "source": [
        "y_val"
      ],
      "metadata": {
        "colab": {
          "base_uri": "https://localhost:8080/"
        },
        "id": "av6wncrGVuHH",
        "outputId": "69477e5f-a4f2-4714-b12f-d83de2e1d425"
      },
      "execution_count": 94,
      "outputs": [
        {
          "output_type": "execute_result",
          "data": {
            "text/plain": [
              "<tf.Tensor: shape=(2, 4), dtype=float32, numpy=\n",
              "array([[1., 0., 0., 0.],\n",
              "       [0., 1., 0., 0.]], dtype=float32)>"
            ]
          },
          "metadata": {},
          "execution_count": 94
        }
      ]
    },
    {
      "cell_type": "code",
      "source": [
        "model.predict(x_val)"
      ],
      "metadata": {
        "id": "CLrVc0WaR0_W",
        "colab": {
          "base_uri": "https://localhost:8080/"
        },
        "outputId": "fa41a814-7d5f-4f98-bcfa-c07b3944af95"
      },
      "execution_count": 95,
      "outputs": [
        {
          "output_type": "stream",
          "name": "stdout",
          "text": [
            "1/1 [==============================] - 0s 79ms/step\n"
          ]
        },
        {
          "output_type": "execute_result",
          "data": {
            "text/plain": [
              "array([[1.0000000e+00, 3.1376212e-19, 4.7948641e-18, 6.0884120e-18],\n",
              "       [8.9841837e-01, 1.0061285e-01, 9.6872047e-04, 2.0268128e-14]],\n",
              "      dtype=float32)"
            ]
          },
          "metadata": {},
          "execution_count": 95
        }
      ]
    },
    {
      "cell_type": "code",
      "source": [
        "tf.math.argmax(model.predict(x_val), axis=1)"
      ],
      "metadata": {
        "colab": {
          "base_uri": "https://localhost:8080/"
        },
        "id": "tV37pfP3VZwM",
        "outputId": "6dc7abe8-45e2-4414-dd78-8de2522c2925"
      },
      "execution_count": 96,
      "outputs": [
        {
          "output_type": "stream",
          "name": "stdout",
          "text": [
            "1/1 [==============================] - 0s 17ms/step\n"
          ]
        },
        {
          "output_type": "execute_result",
          "data": {
            "text/plain": [
              "<tf.Tensor: shape=(2,), dtype=int64, numpy=array([0, 0])>"
            ]
          },
          "metadata": {},
          "execution_count": 96
        }
      ]
    },
    {
      "cell_type": "code",
      "source": [
        "tf.math.argmax(model.predict(x_val), axis=1) == tf.math.argmax(y_val, axis=1)"
      ],
      "metadata": {
        "colab": {
          "base_uri": "https://localhost:8080/"
        },
        "id": "sZRCzQw5VnC-",
        "outputId": "0db02f6d-d4b0-4ff6-f42c-912987a77ee6"
      },
      "execution_count": 97,
      "outputs": [
        {
          "output_type": "stream",
          "name": "stdout",
          "text": [
            "1/1 [==============================] - 0s 20ms/step\n"
          ]
        },
        {
          "output_type": "execute_result",
          "data": {
            "text/plain": [
              "<tf.Tensor: shape=(2,), dtype=bool, numpy=array([ True, False])>"
            ]
          },
          "metadata": {},
          "execution_count": 97
        }
      ]
    },
    {
      "cell_type": "code",
      "source": [
        "model.evaluate(X_test, y_test)"
      ],
      "metadata": {
        "id": "g1fTU2I2V5__",
        "colab": {
          "base_uri": "https://localhost:8080/"
        },
        "outputId": "0dcd6730-62a0-4f45-938c-6d0fdd93e40c"
      },
      "execution_count": 98,
      "outputs": [
        {
          "output_type": "stream",
          "name": "stdout",
          "text": [
            "625/625 [==============================] - 2s 3ms/step - loss: 0.6468 - accuracy: 0.5073\n"
          ]
        },
        {
          "output_type": "execute_result",
          "data": {
            "text/plain": [
              "[0.6467834711074829, 0.5073000192642212]"
            ]
          },
          "metadata": {},
          "execution_count": 98
        }
      ]
    },
    {
      "cell_type": "code",
      "source": [],
      "metadata": {
        "id": "8G46G9Aubedz"
      },
      "execution_count": 98,
      "outputs": []
    }
  ],
  "metadata": {
    "accelerator": "GPU",
    "colab": {
      "collapsed_sections": [],
      "provenance": [],
      "include_colab_link": true
    },
    "gpuClass": "standard",
    "kernelspec": {
      "display_name": "Python 3",
      "name": "python3"
    },
    "language_info": {
      "name": "python"
    }
  },
  "nbformat": 4,
  "nbformat_minor": 0
}