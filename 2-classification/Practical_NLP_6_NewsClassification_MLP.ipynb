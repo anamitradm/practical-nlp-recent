{
  "nbformat": 4,
  "nbformat_minor": 0,
  "metadata": {
    "colab": {
      "provenance": [],
      "collapsed_sections": [],
      "authorship_tag": "ABX9TyPF6F4AyItXxuJt9ll5drFJ",
      "include_colab_link": true
    },
    "kernelspec": {
      "name": "python3",
      "display_name": "Python 3"
    },
    "language_info": {
      "name": "python"
    },
    "accelerator": "GPU",
    "gpuClass": "standard"
  },
  "cells": [
    {
      "cell_type": "markdown",
      "metadata": {
        "id": "view-in-github",
        "colab_type": "text"
      },
      "source": [
        "<a href=\"https://colab.research.google.com/github/axel-sirota/practical-nlp/blob/main/2-classification/Practical_NLP_6_NewsClassification_MLP.ipynb\" target=\"_parent\"><img src=\"https://colab.research.google.com/assets/colab-badge.svg\" alt=\"Open In Colab\"/></a>"
      ]
    },
    {
      "cell_type": "code",
      "execution_count": 1,
      "metadata": {
        "colab": {
          "base_uri": "https://localhost:8080/"
        },
        "id": "DEqSAWGgNeRx",
        "outputId": "b605517a-d651-475d-b6db-114dfe0516ed"
      },
      "outputs": [
        {
          "output_type": "stream",
          "name": "stdout",
          "text": [
            "Fri Oct 14 17:05:02 2022       \n",
            "+-----------------------------------------------------------------------------+\n",
            "| NVIDIA-SMI 460.32.03    Driver Version: 460.32.03    CUDA Version: 11.2     |\n",
            "|-------------------------------+----------------------+----------------------+\n",
            "| GPU  Name        Persistence-M| Bus-Id        Disp.A | Volatile Uncorr. ECC |\n",
            "| Fan  Temp  Perf  Pwr:Usage/Cap|         Memory-Usage | GPU-Util  Compute M. |\n",
            "|                               |                      |               MIG M. |\n",
            "|===============================+======================+======================|\n",
            "|   0  Tesla T4            Off  | 00000000:00:04.0 Off |                    0 |\n",
            "| N/A   43C    P8     9W /  70W |      0MiB / 15109MiB |      0%      Default |\n",
            "|                               |                      |                  N/A |\n",
            "+-------------------------------+----------------------+----------------------+\n",
            "                                                                               \n",
            "+-----------------------------------------------------------------------------+\n",
            "| Processes:                                                                  |\n",
            "|  GPU   GI   CI        PID   Type   Process name                  GPU Memory |\n",
            "|        ID   ID                                                   Usage      |\n",
            "|=============================================================================|\n",
            "|  No running processes found                                                 |\n",
            "+-----------------------------------------------------------------------------+\n"
          ]
        }
      ],
      "source": [
        "!nvidia-smi"
      ]
    },
    {
      "cell_type": "code",
      "source": [
        "!pip install textblob 'gensim==4.2.0'"
      ],
      "metadata": {
        "colab": {
          "base_uri": "https://localhost:8080/"
        },
        "id": "-IY2pTPBPir1",
        "outputId": "c67a7a06-a0c9-4cb6-efe2-2f4a56dee5ff"
      },
      "execution_count": 2,
      "outputs": [
        {
          "output_type": "stream",
          "name": "stdout",
          "text": [
            "Looking in indexes: https://pypi.org/simple, https://us-python.pkg.dev/colab-wheels/public/simple/\n",
            "Requirement already satisfied: textblob in /usr/local/lib/python3.7/dist-packages (0.15.3)\n",
            "Requirement already satisfied: gensim==4.2.0 in /usr/local/lib/python3.7/dist-packages (4.2.0)\n",
            "Requirement already satisfied: scipy>=0.18.1 in /usr/local/lib/python3.7/dist-packages (from gensim==4.2.0) (1.7.3)\n",
            "Requirement already satisfied: smart-open>=1.8.1 in /usr/local/lib/python3.7/dist-packages (from gensim==4.2.0) (5.2.1)\n",
            "Requirement already satisfied: numpy>=1.17.0 in /usr/local/lib/python3.7/dist-packages (from gensim==4.2.0) (1.21.6)\n",
            "Requirement already satisfied: nltk>=3.1 in /usr/local/lib/python3.7/dist-packages (from textblob) (3.7)\n",
            "Requirement already satisfied: joblib in /usr/local/lib/python3.7/dist-packages (from nltk>=3.1->textblob) (1.2.0)\n",
            "Requirement already satisfied: tqdm in /usr/local/lib/python3.7/dist-packages (from nltk>=3.1->textblob) (4.64.1)\n",
            "Requirement already satisfied: click in /usr/local/lib/python3.7/dist-packages (from nltk>=3.1->textblob) (7.1.2)\n",
            "Requirement already satisfied: regex>=2021.8.3 in /usr/local/lib/python3.7/dist-packages (from nltk>=3.1->textblob) (2022.6.2)\n"
          ]
        }
      ]
    },
    {
      "cell_type": "code",
      "source": [
        "import multiprocessing\n",
        "import tensorflow as tf\n",
        "import sys\n",
        "import keras.backend as K\n",
        "from keras.models import Sequential\n",
        "from keras.layers import Dense, Embedding, Lambda\n",
        "from keras.utils import np_utils\n",
        "from keras.preprocessing import sequence\n",
        "from keras.preprocessing.text import Tokenizer\n",
        "from textblob import TextBlob, Word\n",
        "from keras_preprocessing.sequence import pad_sequences\n",
        "from keras.initializers import Constant\n",
        "import numpy as np\n",
        "import random\n",
        "import os\n",
        "import pandas as pd\n",
        "import gensim\n",
        "import warnings\n",
        "import nltk\n",
        "import pickle\n",
        "from tensorflow.nn import leaky_relu\n",
        "\n",
        "import re\n",
        "import warnings\n",
        "from sklearn.model_selection import train_test_split\n",
        "from textblob import TextBlob\n",
        "\n",
        "\n",
        "TRACE = False\n",
        "embedding_dim = 50\n",
        "epochs=100\n",
        "batch_size = 250\n",
        "corpus_size=25000\n",
        "BATCH = True\n",
        "\n",
        "def set_seeds_and_trace():\n",
        "  os.environ['PYTHONHASHSEED'] = '0'\n",
        "  np.random.seed(42)\n",
        "  tf.random.set_seed(42)\n",
        "  random.seed(42)\n",
        "  if TRACE:\n",
        "    tf.debugging.set_log_device_placement(True)\n",
        "\n",
        "def set_session_with_gpus_and_cores():\n",
        "  cores = multiprocessing.cpu_count()\n",
        "  gpus = len(tf.config.list_physical_devices('GPU'))\n",
        "  config = tf.compat.v1.ConfigProto( device_count = {'GPU': gpus  , 'CPU': cores} , intra_op_parallelism_threads=1, inter_op_parallelism_threads=1)\n",
        "  sess = tf.compat.v1.Session(config=config) \n",
        "  K.set_session(sess)\n",
        "\n",
        "set_seeds_and_trace()\n",
        "set_session_with_gpus_and_cores()\n",
        "warnings.filterwarnings('ignore')\n",
        "nltk.download('punkt')\n",
        "tokenizer = lambda x: TextBlob(x).words"
      ],
      "metadata": {
        "colab": {
          "base_uri": "https://localhost:8080/"
        },
        "id": "5gZklVraP2vn",
        "outputId": "accbb096-f413-4bf1-fe36-cb2db50867c0"
      },
      "execution_count": 3,
      "outputs": [
        {
          "output_type": "stream",
          "name": "stderr",
          "text": [
            "[nltk_data] Downloading package punkt to /root/nltk_data...\n",
            "[nltk_data]   Package punkt is already up-to-date!\n"
          ]
        }
      ]
    },
    {
      "cell_type": "code",
      "source": [
        "%%writefile get_data.sh\n",
        "if [ ! -f yelp.csv ]; then\n",
        "  wget -O news.csv https://www.dropbox.com/s/352x7xzivf60zgc/news.csv?dl=0\n",
        "fi\n",
        "\n",
        "if [ ! -f emb_word2vec_format.txt ]; then\n",
        "    wget -O emb_word2vec_format.txt https://www.dropbox.com/s/cqoacnovxsq1zoe/emb_word2vec_format.txt?dl=0\n",
        "fi"
      ],
      "metadata": {
        "colab": {
          "base_uri": "https://localhost:8080/"
        },
        "id": "I0DZp9-YP8Fa",
        "outputId": "78cdb214-96c1-4c1d-e743-a3dc52f36b32"
      },
      "execution_count": 4,
      "outputs": [
        {
          "output_type": "stream",
          "name": "stdout",
          "text": [
            "Overwriting get_data.sh\n"
          ]
        }
      ]
    },
    {
      "cell_type": "code",
      "source": [
        "!bash get_data.sh"
      ],
      "metadata": {
        "colab": {
          "base_uri": "https://localhost:8080/"
        },
        "id": "Arc-2X3AS2dI",
        "outputId": "f34ba669-05ea-4439-d643-ba5e6de63738"
      },
      "execution_count": 5,
      "outputs": [
        {
          "output_type": "stream",
          "name": "stdout",
          "text": [
            "--2022-10-14 17:05:09--  https://www.dropbox.com/s/352x7xzivf60zgc/news.csv?dl=0\n",
            "Resolving www.dropbox.com (www.dropbox.com)... 162.125.81.18, 2620:100:6031:18::a27d:5112\n",
            "Connecting to www.dropbox.com (www.dropbox.com)|162.125.81.18|:443... connected.\n",
            "HTTP request sent, awaiting response... 302 Found\n",
            "Location: /s/raw/352x7xzivf60zgc/news.csv [following]\n",
            "--2022-10-14 17:05:10--  https://www.dropbox.com/s/raw/352x7xzivf60zgc/news.csv\n",
            "Reusing existing connection to www.dropbox.com:443.\n",
            "HTTP request sent, awaiting response... 302 Found\n",
            "Location: https://ucb388e46628f4c47a34ed31956d.dl.dropboxusercontent.com/cd/0/inline/Bu3Eczg71HEPbqnyrtbhUFlKKRgPUrpbLfvOebBVMwHJiO-ZNQA5D1ZtIHl63VKmvsQhstjSli1WlCPs3isWx_asz4rcA4STtowz1SgUziMKnA35bJ98tw6mBxZCeFXWY9zQ6vS4WepE6Bqd5hrgubXUWqhCSKKnqC68fI0kTu52Ig/file# [following]\n",
            "--2022-10-14 17:05:10--  https://ucb388e46628f4c47a34ed31956d.dl.dropboxusercontent.com/cd/0/inline/Bu3Eczg71HEPbqnyrtbhUFlKKRgPUrpbLfvOebBVMwHJiO-ZNQA5D1ZtIHl63VKmvsQhstjSli1WlCPs3isWx_asz4rcA4STtowz1SgUziMKnA35bJ98tw6mBxZCeFXWY9zQ6vS4WepE6Bqd5hrgubXUWqhCSKKnqC68fI0kTu52Ig/file\n",
            "Resolving ucb388e46628f4c47a34ed31956d.dl.dropboxusercontent.com (ucb388e46628f4c47a34ed31956d.dl.dropboxusercontent.com)... 162.125.81.15, 2620:100:6031:15::a27d:510f\n",
            "Connecting to ucb388e46628f4c47a34ed31956d.dl.dropboxusercontent.com (ucb388e46628f4c47a34ed31956d.dl.dropboxusercontent.com)|162.125.81.15|:443... connected.\n",
            "HTTP request sent, awaiting response... 200 OK\n",
            "Length: 6131239 (5.8M) [text/plain]\n",
            "Saving to: ‘news.csv’\n",
            "\n",
            "news.csv            100%[===================>]   5.85M  11.8MB/s    in 0.5s    \n",
            "\n",
            "2022-10-14 17:05:11 (11.8 MB/s) - ‘news.csv’ saved [6131239/6131239]\n",
            "\n"
          ]
        }
      ]
    },
    {
      "cell_type": "code",
      "source": [
        "path = './news.csv'\n",
        "news = pd.read_csv(path, header=0).sample(n=corpus_size).reset_index(drop=True)"
      ],
      "metadata": {
        "id": "qIsjpoQMS5tT"
      },
      "execution_count": 6,
      "outputs": []
    },
    {
      "cell_type": "code",
      "source": [
        "def preprocess_text(text):\n",
        "    text = ' '.join(word.lower() for word in text.split(\" \"))\n",
        "    text = re.sub(r\"([.,!?])\", r\" \\1 \", text)\n",
        "    text = re.sub(r\"[^a-zA-Z.,!?]+\", r\" \", text)\n",
        "    text = ' '.join(gensim.utils.simple_preprocess(text))\n",
        "    return text"
      ],
      "metadata": {
        "id": "e48igNipS-7m"
      },
      "execution_count": 7,
      "outputs": []
    },
    {
      "cell_type": "code",
      "source": [
        "news.title.apply(preprocess_text)\n",
        "news"
      ],
      "metadata": {
        "colab": {
          "base_uri": "https://localhost:8080/",
          "height": 424
        },
        "id": "AmuzxBe0S-45",
        "outputId": "3ff74281-8722-456a-9840-0efa73e98942"
      },
      "execution_count": 8,
      "outputs": [
        {
          "output_type": "execute_result",
          "data": {
            "text/plain": [
              "       category                                              title\n",
              "0      Business       BBC set for major shake-up, claims newspaper\n",
              "1      Business                           Marsh averts cash crunch\n",
              "2        Sports           Jeter, Yankees Look to Take Control (AP)\n",
              "3      Sci/Tech                           Flying the Sun to Safety\n",
              "4      Business           Stocks Seen Flat as Nortel and Oil Weigh\n",
              "...         ...                                                ...\n",
              "24995  Business    Wal-Mart Clarifies Policy Regarding Unions (AP)\n",
              "24996  Sci/Tech  VIEWPOINT: Better Russian planning would preve...\n",
              "24997    Sports                    No. 6 Syracuse 56, Princeton 45\n",
              "24998    Sports       USC, Oklahoma Still 1-2, Auburn Third in BCS\n",
              "24999    Sports                      Giggs returns to face England\n",
              "\n",
              "[25000 rows x 2 columns]"
            ],
            "text/html": [
              "\n",
              "  <div id=\"df-fc1fb08b-930c-41a5-922f-dc129662cad2\">\n",
              "    <div class=\"colab-df-container\">\n",
              "      <div>\n",
              "<style scoped>\n",
              "    .dataframe tbody tr th:only-of-type {\n",
              "        vertical-align: middle;\n",
              "    }\n",
              "\n",
              "    .dataframe tbody tr th {\n",
              "        vertical-align: top;\n",
              "    }\n",
              "\n",
              "    .dataframe thead th {\n",
              "        text-align: right;\n",
              "    }\n",
              "</style>\n",
              "<table border=\"1\" class=\"dataframe\">\n",
              "  <thead>\n",
              "    <tr style=\"text-align: right;\">\n",
              "      <th></th>\n",
              "      <th>category</th>\n",
              "      <th>title</th>\n",
              "    </tr>\n",
              "  </thead>\n",
              "  <tbody>\n",
              "    <tr>\n",
              "      <th>0</th>\n",
              "      <td>Business</td>\n",
              "      <td>BBC set for major shake-up, claims newspaper</td>\n",
              "    </tr>\n",
              "    <tr>\n",
              "      <th>1</th>\n",
              "      <td>Business</td>\n",
              "      <td>Marsh averts cash crunch</td>\n",
              "    </tr>\n",
              "    <tr>\n",
              "      <th>2</th>\n",
              "      <td>Sports</td>\n",
              "      <td>Jeter, Yankees Look to Take Control (AP)</td>\n",
              "    </tr>\n",
              "    <tr>\n",
              "      <th>3</th>\n",
              "      <td>Sci/Tech</td>\n",
              "      <td>Flying the Sun to Safety</td>\n",
              "    </tr>\n",
              "    <tr>\n",
              "      <th>4</th>\n",
              "      <td>Business</td>\n",
              "      <td>Stocks Seen Flat as Nortel and Oil Weigh</td>\n",
              "    </tr>\n",
              "    <tr>\n",
              "      <th>...</th>\n",
              "      <td>...</td>\n",
              "      <td>...</td>\n",
              "    </tr>\n",
              "    <tr>\n",
              "      <th>24995</th>\n",
              "      <td>Business</td>\n",
              "      <td>Wal-Mart Clarifies Policy Regarding Unions (AP)</td>\n",
              "    </tr>\n",
              "    <tr>\n",
              "      <th>24996</th>\n",
              "      <td>Sci/Tech</td>\n",
              "      <td>VIEWPOINT: Better Russian planning would preve...</td>\n",
              "    </tr>\n",
              "    <tr>\n",
              "      <th>24997</th>\n",
              "      <td>Sports</td>\n",
              "      <td>No. 6 Syracuse 56, Princeton 45</td>\n",
              "    </tr>\n",
              "    <tr>\n",
              "      <th>24998</th>\n",
              "      <td>Sports</td>\n",
              "      <td>USC, Oklahoma Still 1-2, Auburn Third in BCS</td>\n",
              "    </tr>\n",
              "    <tr>\n",
              "      <th>24999</th>\n",
              "      <td>Sports</td>\n",
              "      <td>Giggs returns to face England</td>\n",
              "    </tr>\n",
              "  </tbody>\n",
              "</table>\n",
              "<p>25000 rows × 2 columns</p>\n",
              "</div>\n",
              "      <button class=\"colab-df-convert\" onclick=\"convertToInteractive('df-fc1fb08b-930c-41a5-922f-dc129662cad2')\"\n",
              "              title=\"Convert this dataframe to an interactive table.\"\n",
              "              style=\"display:none;\">\n",
              "        \n",
              "  <svg xmlns=\"http://www.w3.org/2000/svg\" height=\"24px\"viewBox=\"0 0 24 24\"\n",
              "       width=\"24px\">\n",
              "    <path d=\"M0 0h24v24H0V0z\" fill=\"none\"/>\n",
              "    <path d=\"M18.56 5.44l.94 2.06.94-2.06 2.06-.94-2.06-.94-.94-2.06-.94 2.06-2.06.94zm-11 1L8.5 8.5l.94-2.06 2.06-.94-2.06-.94L8.5 2.5l-.94 2.06-2.06.94zm10 10l.94 2.06.94-2.06 2.06-.94-2.06-.94-.94-2.06-.94 2.06-2.06.94z\"/><path d=\"M17.41 7.96l-1.37-1.37c-.4-.4-.92-.59-1.43-.59-.52 0-1.04.2-1.43.59L10.3 9.45l-7.72 7.72c-.78.78-.78 2.05 0 2.83L4 21.41c.39.39.9.59 1.41.59.51 0 1.02-.2 1.41-.59l7.78-7.78 2.81-2.81c.8-.78.8-2.07 0-2.86zM5.41 20L4 18.59l7.72-7.72 1.47 1.35L5.41 20z\"/>\n",
              "  </svg>\n",
              "      </button>\n",
              "      \n",
              "  <style>\n",
              "    .colab-df-container {\n",
              "      display:flex;\n",
              "      flex-wrap:wrap;\n",
              "      gap: 12px;\n",
              "    }\n",
              "\n",
              "    .colab-df-convert {\n",
              "      background-color: #E8F0FE;\n",
              "      border: none;\n",
              "      border-radius: 50%;\n",
              "      cursor: pointer;\n",
              "      display: none;\n",
              "      fill: #1967D2;\n",
              "      height: 32px;\n",
              "      padding: 0 0 0 0;\n",
              "      width: 32px;\n",
              "    }\n",
              "\n",
              "    .colab-df-convert:hover {\n",
              "      background-color: #E2EBFA;\n",
              "      box-shadow: 0px 1px 2px rgba(60, 64, 67, 0.3), 0px 1px 3px 1px rgba(60, 64, 67, 0.15);\n",
              "      fill: #174EA6;\n",
              "    }\n",
              "\n",
              "    [theme=dark] .colab-df-convert {\n",
              "      background-color: #3B4455;\n",
              "      fill: #D2E3FC;\n",
              "    }\n",
              "\n",
              "    [theme=dark] .colab-df-convert:hover {\n",
              "      background-color: #434B5C;\n",
              "      box-shadow: 0px 1px 3px 1px rgba(0, 0, 0, 0.15);\n",
              "      filter: drop-shadow(0px 1px 2px rgba(0, 0, 0, 0.3));\n",
              "      fill: #FFFFFF;\n",
              "    }\n",
              "  </style>\n",
              "\n",
              "      <script>\n",
              "        const buttonEl =\n",
              "          document.querySelector('#df-fc1fb08b-930c-41a5-922f-dc129662cad2 button.colab-df-convert');\n",
              "        buttonEl.style.display =\n",
              "          google.colab.kernel.accessAllowed ? 'block' : 'none';\n",
              "\n",
              "        async function convertToInteractive(key) {\n",
              "          const element = document.querySelector('#df-fc1fb08b-930c-41a5-922f-dc129662cad2');\n",
              "          const dataTable =\n",
              "            await google.colab.kernel.invokeFunction('convertToInteractive',\n",
              "                                                     [key], {});\n",
              "          if (!dataTable) return;\n",
              "\n",
              "          const docLinkHtml = 'Like what you see? Visit the ' +\n",
              "            '<a target=\"_blank\" href=https://colab.research.google.com/notebooks/data_table.ipynb>data table notebook</a>'\n",
              "            + ' to learn more about interactive tables.';\n",
              "          element.innerHTML = '';\n",
              "          dataTable['output_type'] = 'display_data';\n",
              "          await google.colab.output.renderOutput(dataTable, element);\n",
              "          const docLink = document.createElement('div');\n",
              "          docLink.innerHTML = docLinkHtml;\n",
              "          element.appendChild(docLink);\n",
              "        }\n",
              "      </script>\n",
              "    </div>\n",
              "  </div>\n",
              "  "
            ]
          },
          "metadata": {},
          "execution_count": 8
        }
      ]
    },
    {
      "cell_type": "code",
      "source": [
        "word2vec_model = gensim.models.KeyedVectors.load_word2vec_format('emb_word2vec_format.txt')"
      ],
      "metadata": {
        "id": "BI4j9GohS-1k"
      },
      "execution_count": 9,
      "outputs": []
    },
    {
      "cell_type": "code",
      "source": [
        "news['label'] = news.category.map({'Business': 0, 'Sports': 1, 'Sci/Tech': 2, 'World': 3})\n",
        "\n",
        "weights = tf.constant(word2vec_model.vectors)\n",
        "vocab_size = len(word2vec_model.index_to_key)"
      ],
      "metadata": {
        "id": "g02Wjl0NS-y2"
      },
      "execution_count": 10,
      "outputs": []
    },
    {
      "cell_type": "code",
      "source": [
        "def get_maximum_review_length(df):\n",
        "    maximum = 0\n",
        "    for ix, row in df.iterrows():\n",
        "        candidate = len(tokenizer(row.title))\n",
        "        if candidate > maximum:\n",
        "            maximum = candidate\n",
        "    return maximum\n",
        "\n",
        "\n",
        "maximum = get_maximum_review_length(news)"
      ],
      "metadata": {
        "id": "4Fsl1VwnVJoz"
      },
      "execution_count": 11,
      "outputs": []
    },
    {
      "cell_type": "code",
      "source": [
        "X = np.zeros((len(news), maximum))\n",
        "for index, row in news.iterrows():\n",
        "    ix = 0\n",
        "    for word in tokenizer(row.title):\n",
        "        if word not in word2vec_model:\n",
        "            representation = 0\n",
        "        else:\n",
        "            representation = word2vec_model.index_to_key.index(word)\n",
        "        X[index, ix] = representation\n",
        "        ix += 1\n",
        "y = news.label"
      ],
      "metadata": {
        "id": "7cFi0e_sVJmh"
      },
      "execution_count": 12,
      "outputs": []
    },
    {
      "cell_type": "code",
      "source": [
        "X_train, X_test, y_train, y_test = train_test_split(X, y, test_size=0.2, random_state=42)\n",
        "X_train = tf.constant(X_train)\n",
        "X_test = tf.constant(X_test)\n",
        "y_train = tf.one_hot(tf.constant(y_train), 4)\n",
        "y_test = tf.one_hot(tf.constant(y_test), 4)"
      ],
      "metadata": {
        "id": "HspIJVUBVJkF"
      },
      "execution_count": 13,
      "outputs": []
    },
    {
      "cell_type": "code",
      "source": [
        "X_train[0]"
      ],
      "metadata": {
        "colab": {
          "base_uri": "https://localhost:8080/"
        },
        "id": "8z5V4riHX8lf",
        "outputId": "65dd04b2-634c-4323-8792-33cb82a78fb0"
      },
      "execution_count": 14,
      "outputs": [
        {
          "output_type": "execute_result",
          "data": {
            "text/plain": [
              "<tf.Tensor: shape=(21,), dtype=float64, numpy=\n",
              "array([    0.,     0.,  4948., 29646.,   672.,   194.,     0.,     0.,\n",
              "           0.,     0.,     0.,     0.,     0.,     0.,     0.,     0.,\n",
              "           0.,     0.,     0.,     0.,     0.])>"
            ]
          },
          "metadata": {},
          "execution_count": 14
        }
      ]
    },
    {
      "cell_type": "code",
      "source": [],
      "metadata": {
        "id": "FSvBEG4_aV-3"
      },
      "execution_count": 14,
      "outputs": []
    },
    {
      "cell_type": "code",
      "source": [
        "weights.shape"
      ],
      "metadata": {
        "colab": {
          "base_uri": "https://localhost:8080/"
        },
        "id": "YWpiksEJYWyr",
        "outputId": "628247cc-ef3d-43f9-9db0-4f6292ebc408"
      },
      "execution_count": 15,
      "outputs": [
        {
          "output_type": "execute_result",
          "data": {
            "text/plain": [
              "TensorShape([400000, 50])"
            ]
          },
          "metadata": {},
          "execution_count": 15
        }
      ]
    },
    {
      "cell_type": "code",
      "source": [
        "model = Sequential()\n",
        "model.add(Embedding(input_dim=weights.shape[0], output_dim=50, input_length=maximum, embeddings_initializer=Constant(weights), trainable=False))\n",
        "model.add(Dense(100, activation=leaky_relu))\n",
        "model.add(Lambda(lambda x: K.mean(x, axis=1), output_shape=(None, embedding_dim,)))\n",
        "model.add(Dense(50, activation=leaky_relu))\n",
        "model.add(Dense(4, activation='softmax'))"
      ],
      "metadata": {
        "id": "FzrIQ4G0VJhh"
      },
      "execution_count": 16,
      "outputs": []
    },
    {
      "cell_type": "code",
      "source": [
        "model.compile(loss='categorical_crossentropy', optimizer='adam', steps_per_execution=len(X_train)//batch_size)\n",
        "model.summary()"
      ],
      "metadata": {
        "colab": {
          "base_uri": "https://localhost:8080/"
        },
        "id": "8T-hPDiIVJe9",
        "outputId": "c65d3237-bcda-4785-b096-f23f51ad57d3"
      },
      "execution_count": 17,
      "outputs": [
        {
          "output_type": "stream",
          "name": "stdout",
          "text": [
            "Model: \"sequential\"\n",
            "_________________________________________________________________\n",
            " Layer (type)                Output Shape              Param #   \n",
            "=================================================================\n",
            " embedding (Embedding)       (None, 21, 50)            20000000  \n",
            "                                                                 \n",
            " dense (Dense)               (None, 21, 100)           5100      \n",
            "                                                                 \n",
            " lambda (Lambda)             (None, 100)               0         \n",
            "                                                                 \n",
            " dense_1 (Dense)             (None, 50)                5050      \n",
            "                                                                 \n",
            " dense_2 (Dense)             (None, 4)                 204       \n",
            "                                                                 \n",
            "=================================================================\n",
            "Total params: 20,010,354\n",
            "Trainable params: 10,354\n",
            "Non-trainable params: 20,000,000\n",
            "_________________________________________________________________\n"
          ]
        }
      ]
    },
    {
      "cell_type": "code",
      "source": [
        "history = model.fit(x=X_train, y=y_train, epochs=epochs, batch_size=batch_size, validation_data=(X_test, y_test), workers=5)"
      ],
      "metadata": {
        "colab": {
          "base_uri": "https://localhost:8080/"
        },
        "id": "XCQiCKLSVJcg",
        "outputId": "6fca0714-5761-4bdc-9bbe-ce9e23a697f0"
      },
      "execution_count": 18,
      "outputs": [
        {
          "output_type": "stream",
          "name": "stdout",
          "text": [
            "Epoch 1/100\n",
            "80/80 [==============================] - 2s 24ms/step - loss: 1.3452 - val_loss: 1.2908\n",
            "Epoch 2/100\n",
            "80/80 [==============================] - 0s 2ms/step - loss: 1.1916 - val_loss: 1.1443\n",
            "Epoch 3/100\n",
            "80/80 [==============================] - 0s 2ms/step - loss: 1.1030 - val_loss: 1.0968\n",
            "Epoch 4/100\n",
            "80/80 [==============================] - 0s 2ms/step - loss: 1.0856 - val_loss: 1.1072\n",
            "Epoch 5/100\n",
            "80/80 [==============================] - 0s 2ms/step - loss: 1.0778 - val_loss: 1.0809\n",
            "Epoch 6/100\n",
            "80/80 [==============================] - 0s 2ms/step - loss: 1.0743 - val_loss: 1.0782\n",
            "Epoch 7/100\n",
            "80/80 [==============================] - 0s 2ms/step - loss: 1.0699 - val_loss: 1.0739\n",
            "Epoch 8/100\n",
            "80/80 [==============================] - 0s 2ms/step - loss: 1.0629 - val_loss: 1.0747\n",
            "Epoch 9/100\n",
            "80/80 [==============================] - 0s 2ms/step - loss: 1.0666 - val_loss: 1.0778\n",
            "Epoch 10/100\n",
            "80/80 [==============================] - 0s 2ms/step - loss: 1.0614 - val_loss: 1.0775\n",
            "Epoch 11/100\n",
            "80/80 [==============================] - 0s 2ms/step - loss: 1.0617 - val_loss: 1.0683\n",
            "Epoch 12/100\n",
            "80/80 [==============================] - 0s 2ms/step - loss: 1.0566 - val_loss: 1.0700\n",
            "Epoch 13/100\n",
            "80/80 [==============================] - 0s 2ms/step - loss: 1.0529 - val_loss: 1.0678\n",
            "Epoch 14/100\n",
            "80/80 [==============================] - 0s 2ms/step - loss: 1.0540 - val_loss: 1.0634\n",
            "Epoch 15/100\n",
            "80/80 [==============================] - 0s 2ms/step - loss: 1.0516 - val_loss: 1.0617\n",
            "Epoch 16/100\n",
            "80/80 [==============================] - 0s 2ms/step - loss: 1.0503 - val_loss: 1.0646\n",
            "Epoch 17/100\n",
            "80/80 [==============================] - 0s 2ms/step - loss: 1.0493 - val_loss: 1.0648\n",
            "Epoch 18/100\n",
            "80/80 [==============================] - 0s 2ms/step - loss: 1.0489 - val_loss: 1.0594\n",
            "Epoch 19/100\n",
            "80/80 [==============================] - 0s 2ms/step - loss: 1.0465 - val_loss: 1.0653\n",
            "Epoch 20/100\n",
            "80/80 [==============================] - 0s 2ms/step - loss: 1.0457 - val_loss: 1.0581\n",
            "Epoch 21/100\n",
            "80/80 [==============================] - 0s 2ms/step - loss: 1.0454 - val_loss: 1.0627\n",
            "Epoch 22/100\n",
            "80/80 [==============================] - 0s 2ms/step - loss: 1.0439 - val_loss: 1.0586\n",
            "Epoch 23/100\n",
            "80/80 [==============================] - 0s 2ms/step - loss: 1.0423 - val_loss: 1.0568\n",
            "Epoch 24/100\n",
            "80/80 [==============================] - 0s 2ms/step - loss: 1.0401 - val_loss: 1.0687\n",
            "Epoch 25/100\n",
            "80/80 [==============================] - 0s 2ms/step - loss: 1.0415 - val_loss: 1.0561\n",
            "Epoch 26/100\n",
            "80/80 [==============================] - 0s 2ms/step - loss: 1.0423 - val_loss: 1.0577\n",
            "Epoch 27/100\n",
            "80/80 [==============================] - 0s 2ms/step - loss: 1.0416 - val_loss: 1.0537\n",
            "Epoch 28/100\n",
            "80/80 [==============================] - 0s 2ms/step - loss: 1.0381 - val_loss: 1.0584\n",
            "Epoch 29/100\n",
            "80/80 [==============================] - 0s 2ms/step - loss: 1.0355 - val_loss: 1.0541\n",
            "Epoch 30/100\n",
            "80/80 [==============================] - 0s 2ms/step - loss: 1.0348 - val_loss: 1.0512\n",
            "Epoch 31/100\n",
            "80/80 [==============================] - 0s 2ms/step - loss: 1.0352 - val_loss: 1.0511\n",
            "Epoch 32/100\n",
            "80/80 [==============================] - 0s 2ms/step - loss: 1.0348 - val_loss: 1.0747\n",
            "Epoch 33/100\n",
            "80/80 [==============================] - 0s 2ms/step - loss: 1.0322 - val_loss: 1.0529\n",
            "Epoch 34/100\n",
            "80/80 [==============================] - 0s 2ms/step - loss: 1.0332 - val_loss: 1.0515\n",
            "Epoch 35/100\n",
            "80/80 [==============================] - 0s 2ms/step - loss: 1.0339 - val_loss: 1.0660\n",
            "Epoch 36/100\n",
            "80/80 [==============================] - 0s 2ms/step - loss: 1.0301 - val_loss: 1.0500\n",
            "Epoch 37/100\n",
            "80/80 [==============================] - 0s 2ms/step - loss: 1.0301 - val_loss: 1.0504\n",
            "Epoch 38/100\n",
            "80/80 [==============================] - 0s 2ms/step - loss: 1.0272 - val_loss: 1.0488\n",
            "Epoch 39/100\n",
            "80/80 [==============================] - 0s 2ms/step - loss: 1.0268 - val_loss: 1.0538\n",
            "Epoch 40/100\n",
            "80/80 [==============================] - 0s 2ms/step - loss: 1.0242 - val_loss: 1.0478\n",
            "Epoch 41/100\n",
            "80/80 [==============================] - 0s 2ms/step - loss: 1.0239 - val_loss: 1.0502\n",
            "Epoch 42/100\n",
            "80/80 [==============================] - 0s 2ms/step - loss: 1.0224 - val_loss: 1.0540\n",
            "Epoch 43/100\n",
            "80/80 [==============================] - 0s 2ms/step - loss: 1.0227 - val_loss: 1.0589\n",
            "Epoch 44/100\n",
            "80/80 [==============================] - 0s 2ms/step - loss: 1.0220 - val_loss: 1.0455\n",
            "Epoch 45/100\n",
            "80/80 [==============================] - 0s 2ms/step - loss: 1.0218 - val_loss: 1.0491\n",
            "Epoch 46/100\n",
            "80/80 [==============================] - 0s 2ms/step - loss: 1.0219 - val_loss: 1.0464\n",
            "Epoch 47/100\n",
            "80/80 [==============================] - 0s 2ms/step - loss: 1.0178 - val_loss: 1.0467\n",
            "Epoch 48/100\n",
            "80/80 [==============================] - 0s 2ms/step - loss: 1.0175 - val_loss: 1.0440\n",
            "Epoch 49/100\n",
            "80/80 [==============================] - 0s 2ms/step - loss: 1.0157 - val_loss: 1.0423\n",
            "Epoch 50/100\n",
            "80/80 [==============================] - 0s 2ms/step - loss: 1.0138 - val_loss: 1.0423\n",
            "Epoch 51/100\n",
            "80/80 [==============================] - 0s 2ms/step - loss: 1.0160 - val_loss: 1.0421\n",
            "Epoch 52/100\n",
            "80/80 [==============================] - 0s 2ms/step - loss: 1.0118 - val_loss: 1.0549\n",
            "Epoch 53/100\n",
            "80/80 [==============================] - 0s 2ms/step - loss: 1.0177 - val_loss: 1.0527\n",
            "Epoch 54/100\n",
            "80/80 [==============================] - 0s 2ms/step - loss: 1.0123 - val_loss: 1.0449\n",
            "Epoch 55/100\n",
            "80/80 [==============================] - 0s 2ms/step - loss: 1.0118 - val_loss: 1.0553\n",
            "Epoch 56/100\n",
            "80/80 [==============================] - 0s 2ms/step - loss: 1.0100 - val_loss: 1.0389\n",
            "Epoch 57/100\n",
            "80/80 [==============================] - 0s 2ms/step - loss: 1.0110 - val_loss: 1.0446\n",
            "Epoch 58/100\n",
            "80/80 [==============================] - 0s 2ms/step - loss: 1.0080 - val_loss: 1.0446\n",
            "Epoch 59/100\n",
            "80/80 [==============================] - 0s 2ms/step - loss: 1.0087 - val_loss: 1.0375\n",
            "Epoch 60/100\n",
            "80/80 [==============================] - 0s 2ms/step - loss: 1.0095 - val_loss: 1.0424\n",
            "Epoch 61/100\n",
            "80/80 [==============================] - 0s 2ms/step - loss: 1.0067 - val_loss: 1.0393\n",
            "Epoch 62/100\n",
            "80/80 [==============================] - 0s 2ms/step - loss: 1.0052 - val_loss: 1.0429\n",
            "Epoch 63/100\n",
            "80/80 [==============================] - 0s 2ms/step - loss: 1.0034 - val_loss: 1.0384\n",
            "Epoch 64/100\n",
            "80/80 [==============================] - 0s 2ms/step - loss: 1.0041 - val_loss: 1.0429\n",
            "Epoch 65/100\n",
            "80/80 [==============================] - 0s 2ms/step - loss: 1.0007 - val_loss: 1.0421\n",
            "Epoch 66/100\n",
            "80/80 [==============================] - 0s 2ms/step - loss: 0.9991 - val_loss: 1.0435\n",
            "Epoch 67/100\n",
            "80/80 [==============================] - 0s 2ms/step - loss: 1.0021 - val_loss: 1.0391\n",
            "Epoch 68/100\n",
            "80/80 [==============================] - 0s 2ms/step - loss: 1.0001 - val_loss: 1.0385\n",
            "Epoch 69/100\n",
            "80/80 [==============================] - 0s 2ms/step - loss: 1.0021 - val_loss: 1.0370\n",
            "Epoch 70/100\n",
            "80/80 [==============================] - 0s 2ms/step - loss: 0.9983 - val_loss: 1.0380\n",
            "Epoch 71/100\n",
            "80/80 [==============================] - 0s 2ms/step - loss: 0.9959 - val_loss: 1.0366\n",
            "Epoch 72/100\n",
            "80/80 [==============================] - 0s 2ms/step - loss: 0.9981 - val_loss: 1.0398\n",
            "Epoch 73/100\n",
            "80/80 [==============================] - 0s 2ms/step - loss: 0.9934 - val_loss: 1.0336\n",
            "Epoch 74/100\n",
            "80/80 [==============================] - 0s 2ms/step - loss: 0.9965 - val_loss: 1.0501\n",
            "Epoch 75/100\n",
            "80/80 [==============================] - 0s 2ms/step - loss: 0.9941 - val_loss: 1.0343\n",
            "Epoch 76/100\n",
            "80/80 [==============================] - 0s 2ms/step - loss: 0.9929 - val_loss: 1.0368\n",
            "Epoch 77/100\n",
            "80/80 [==============================] - 0s 2ms/step - loss: 0.9904 - val_loss: 1.0316\n",
            "Epoch 78/100\n",
            "80/80 [==============================] - 0s 2ms/step - loss: 0.9903 - val_loss: 1.0330\n",
            "Epoch 79/100\n",
            "80/80 [==============================] - 0s 2ms/step - loss: 0.9941 - val_loss: 1.0402\n",
            "Epoch 80/100\n",
            "80/80 [==============================] - 0s 2ms/step - loss: 0.9947 - val_loss: 1.0330\n",
            "Epoch 81/100\n",
            "80/80 [==============================] - 0s 2ms/step - loss: 0.9901 - val_loss: 1.0321\n",
            "Epoch 82/100\n",
            "80/80 [==============================] - 0s 2ms/step - loss: 0.9918 - val_loss: 1.0346\n",
            "Epoch 83/100\n",
            "80/80 [==============================] - 0s 2ms/step - loss: 0.9890 - val_loss: 1.0323\n",
            "Epoch 84/100\n",
            "80/80 [==============================] - 0s 2ms/step - loss: 0.9858 - val_loss: 1.0323\n",
            "Epoch 85/100\n",
            "80/80 [==============================] - 0s 2ms/step - loss: 0.9869 - val_loss: 1.0397\n",
            "Epoch 86/100\n",
            "80/80 [==============================] - 0s 2ms/step - loss: 0.9866 - val_loss: 1.0337\n",
            "Epoch 87/100\n",
            "80/80 [==============================] - 0s 2ms/step - loss: 0.9845 - val_loss: 1.0336\n",
            "Epoch 88/100\n",
            "80/80 [==============================] - 0s 2ms/step - loss: 0.9832 - val_loss: 1.0320\n",
            "Epoch 89/100\n",
            "80/80 [==============================] - 0s 2ms/step - loss: 0.9822 - val_loss: 1.0333\n",
            "Epoch 90/100\n",
            "80/80 [==============================] - 0s 2ms/step - loss: 0.9827 - val_loss: 1.0387\n",
            "Epoch 91/100\n",
            "80/80 [==============================] - 0s 2ms/step - loss: 0.9866 - val_loss: 1.0478\n",
            "Epoch 92/100\n",
            "80/80 [==============================] - 0s 2ms/step - loss: 0.9819 - val_loss: 1.0360\n",
            "Epoch 93/100\n",
            "80/80 [==============================] - 0s 2ms/step - loss: 0.9819 - val_loss: 1.0426\n",
            "Epoch 94/100\n",
            "80/80 [==============================] - 0s 2ms/step - loss: 0.9816 - val_loss: 1.0333\n",
            "Epoch 95/100\n",
            "80/80 [==============================] - 0s 2ms/step - loss: 0.9804 - val_loss: 1.0357\n",
            "Epoch 96/100\n",
            "80/80 [==============================] - 0s 2ms/step - loss: 0.9832 - val_loss: 1.0365\n",
            "Epoch 97/100\n",
            "80/80 [==============================] - 0s 2ms/step - loss: 0.9789 - val_loss: 1.0352\n",
            "Epoch 98/100\n",
            "80/80 [==============================] - 0s 2ms/step - loss: 0.9769 - val_loss: 1.0377\n",
            "Epoch 99/100\n",
            "80/80 [==============================] - 0s 2ms/step - loss: 0.9792 - val_loss: 1.0418\n",
            "Epoch 100/100\n",
            "80/80 [==============================] - 0s 2ms/step - loss: 0.9754 - val_loss: 1.0328\n"
          ]
        }
      ]
    },
    {
      "cell_type": "code",
      "source": [
        "import matplotlib.pyplot as plt\n",
        "\n",
        "# function for plotting loss\n",
        "def plot_metrics(train_metric, val_metric=None, metric_name=None, title=None, ylim=5):\n",
        "    plt.title(title)\n",
        "    plt.ylim(0,ylim)\n",
        "    plt.plot(train_metric,color='blue',label=metric_name)\n",
        "    if val_metric is not None: plt.plot(val_metric,color='green',label='val_' + metric_name)\n",
        "    plt.legend(loc=\"upper right\")\n",
        "\n",
        "# plot loss history\n",
        "plot_metrics(history.history['loss'], history.history['val_loss'], \"Loss\", \"Loss\", ylim=2.0)"
      ],
      "metadata": {
        "colab": {
          "base_uri": "https://localhost:8080/",
          "height": 281
        },
        "id": "tDKdanUVa4GT",
        "outputId": "aa9fa8f2-511e-4049-9dce-d3ecc171d36c"
      },
      "execution_count": 20,
      "outputs": [
        {
          "output_type": "display_data",
          "data": {
            "text/plain": [
              "<Figure size 432x288 with 1 Axes>"
            ],
            "image/png": "[encoded data removed]"
          },
          "metadata": {
            "needs_background": "light"
          }
        }
      ]
    },
    {
      "cell_type": "code",
      "source": [],
      "metadata": {
        "id": "g3N8INqJczF0"
      },
      "execution_count": 19,
      "outputs": []
    }
  ]
}