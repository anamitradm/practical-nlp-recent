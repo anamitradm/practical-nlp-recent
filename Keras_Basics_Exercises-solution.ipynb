{
  "cells": [
    {
      "cell_type": "markdown",
      "id": "84bd532c",
      "metadata": {
        "id": "84bd532c"
      },
      "source": [
        "\n",
        "# Keras Exercises for Basic Manipulation of Layers, Models, and Loss Functions\n",
        "\n",
        "This notebook provides a set of exercises designed to familiarize you with the basics of handling layers, models,\n",
        "and loss functions in Keras, which is essential for working with Large Language Models (LLMs).\n",
        "\n",
        "## Exercises Overview\n",
        "1. Creating and Configuring Layers\n",
        "2. Building Sequential Models\n",
        "3. Functional API for Model Building\n",
        "4. Implementing Custom Loss Functions\n",
        "5. Compiling and Training a Model\n",
        "6. Freezing Layers in a Model\n",
        "\n",
        "Each section will include a brief explanation followed by practical exercises.\n"
      ]
    },
    {
      "cell_type": "markdown",
      "id": "b2ef1f64",
      "metadata": {
        "id": "b2ef1f64"
      },
      "source": [
        "\n",
        "## 1. Creating and Configuring Layers\n",
        "\n",
        "**Objective**: Learn how to create and configure different types of layers in Keras.\n",
        "\n",
        "**Exercises**:\n",
        "1. Create a Dense layer with 10 neurons and ReLU activation.\n",
        "2. Create a Dropout layer with a dropout rate of 0.2.\n",
        "3. Configure a Conv2D layer suitable for input images of shape (28, 28, 1) with 32 filters.\n"
      ]
    },
    {
      "cell_type": "code",
      "source": [
        "from keras.layers import Dense, Dropout\n",
        "\n",
        "dense_layer = Dense(10, activation='relu')"
      ],
      "metadata": {
        "id": "vKcFWWZLMlPf"
      },
      "id": "vKcFWWZLMlPf",
      "execution_count": 1,
      "outputs": []
    },
    {
      "cell_type": "code",
      "source": [
        "import tensorflow as tf\n",
        "x = tf.constant([[1, 2, 3], [4, 5, 6]])\n",
        "dense_layer(x)"
      ],
      "metadata": {
        "colab": {
          "base_uri": "https://localhost:8080/"
        },
        "id": "M6sxBhLmNFIv",
        "outputId": "eaae975a-e2af-43be-c898-541f75a9c7ec"
      },
      "id": "M6sxBhLmNFIv",
      "execution_count": 2,
      "outputs": [
        {
          "output_type": "execute_result",
          "data": {
            "text/plain": [
              "<tf.Tensor: shape=(2, 10), dtype=float32, numpy=\n",
              "array([[0.        , 1.2546291 , 0.        , 0.5748477 , 3.256651  ,\n",
              "        1.0953335 , 2.694655  , 0.        , 0.        , 0.6523149 ],\n",
              "       [0.        , 1.9579749 , 0.        , 0.39932573, 7.609806  ,\n",
              "        2.432615  , 6.565547  , 0.6803522 , 0.        , 0.21998715]],\n",
              "      dtype=float32)>"
            ]
          },
          "metadata": {},
          "execution_count": 2
        }
      ]
    },
    {
      "cell_type": "code",
      "source": [
        "dropout_layer = Dropout(1)\n",
        "dropout_layer(dense_layer(x))"
      ],
      "metadata": {
        "colab": {
          "base_uri": "https://localhost:8080/"
        },
        "id": "chAkG0NyNglY",
        "outputId": "38b81a69-d78b-4e8c-cc19-91a940a9e334"
      },
      "id": "chAkG0NyNglY",
      "execution_count": 5,
      "outputs": [
        {
          "output_type": "execute_result",
          "data": {
            "text/plain": [
              "<tf.Tensor: shape=(2, 10), dtype=float32, numpy=\n",
              "array([[0.        , 1.2546291 , 0.        , 0.5748477 , 3.256651  ,\n",
              "        1.0953335 , 2.694655  , 0.        , 0.        , 0.6523149 ],\n",
              "       [0.        , 1.9579749 , 0.        , 0.39932573, 7.609806  ,\n",
              "        2.432615  , 6.565547  , 0.6803522 , 0.        , 0.21998715]],\n",
              "      dtype=float32)>"
            ]
          },
          "metadata": {},
          "execution_count": 5
        }
      ]
    },
    {
      "cell_type": "markdown",
      "id": "e939c80d",
      "metadata": {
        "id": "e939c80d"
      },
      "source": [
        "\n",
        "## 2. Building Sequential Models\n",
        "\n",
        "**Objective**: Understand how to build sequential models in Keras.\n",
        "\n",
        "**Exercises**:\n",
        "1. Build a sequential model with a Dense layer followed by a Dropout layer.\n",
        "2. Add a Dense output layer suitable for a classification task with 3 classes.\n"
      ]
    },
    {
      "cell_type": "code",
      "source": [
        "from keras.models import Sequential\n",
        "\n",
        "model = Sequential()\n",
        "model.add(Dense(10, activation='relu'))\n",
        "model.add(Dropout(0.2))\n",
        "model.add(Dense(3, activation='softmax'))\n",
        "\n",
        "\n"
      ],
      "metadata": {
        "id": "R1eJlJv8OtKP"
      },
      "id": "R1eJlJv8OtKP",
      "execution_count": 8,
      "outputs": []
    },
    {
      "cell_type": "code",
      "source": [
        "model.build(input_shape=(None, 10))"
      ],
      "metadata": {
        "id": "EYayq96XPDjX"
      },
      "id": "EYayq96XPDjX",
      "execution_count": 10,
      "outputs": []
    },
    {
      "cell_type": "code",
      "source": [
        "model.summary()"
      ],
      "metadata": {
        "colab": {
          "base_uri": "https://localhost:8080/"
        },
        "id": "P4KPczSOO3Kj",
        "outputId": "896d54ba-ea48-4de4-e4b8-bc316c683d99"
      },
      "id": "P4KPczSOO3Kj",
      "execution_count": 11,
      "outputs": [
        {
          "output_type": "stream",
          "name": "stdout",
          "text": [
            "Model: \"sequential_1\"\n",
            "_________________________________________________________________\n",
            " Layer (type)                Output Shape              Param #   \n",
            "=================================================================\n",
            " dense_3 (Dense)             (None, 10)                110       \n",
            "                                                                 \n",
            " dropout_4 (Dropout)         (None, 10)                0         \n",
            "                                                                 \n",
            " dense_4 (Dense)             (None, 3)                 33        \n",
            "                                                                 \n",
            "=================================================================\n",
            "Total params: 143 (572.00 Byte)\n",
            "Trainable params: 143 (572.00 Byte)\n",
            "Non-trainable params: 0 (0.00 Byte)\n",
            "_________________________________________________________________\n"
          ]
        }
      ]
    },
    {
      "cell_type": "markdown",
      "id": "96ad844a",
      "metadata": {
        "id": "96ad844a"
      },
      "source": [
        "\n",
        "## 3. Functional API for Model Building\n",
        "\n",
        "**Objective**: Learn to use Keras' Functional API for flexible model building.\n",
        "\n",
        "**Exercises**:\n",
        "1. Build a simple model with the Functional API using at least two input layers.\n",
        "2. Create a model that merges two input branches with concatenation.\n"
      ]
    },
    {
      "cell_type": "code",
      "source": [
        "class MyModel(tf.keras.Model):\n",
        "  def __init__(self):\n",
        "    super().__init__()\n",
        "    self.dense_1 = Dense(128, activation='relu')\n",
        "    self.dense_2 = Dense(64, activation='relu')\n",
        "    self.dropout = Dropout(0.2)\n",
        "    self.dense_3 = Dense(10, activation='softmax')\n",
        "    self.concat = tf.keras.layers.Concatenate()\n",
        "\n",
        "  def call(self, inputs):\n",
        "    x, y = inputs\n",
        "    x = self.dense_1(x)\n",
        "    y = self.dense_2(y)\n",
        "    z = self.concat([x, y])\n",
        "    x = self.dropout(x)\n",
        "    return self.dense_3(x), z\n",
        "\n",
        ""
      ],
      "metadata": {
        "id": "f1nYzOWYPVhw"
      },
      "id": "f1nYzOWYPVhw",
      "execution_count": 16,
      "outputs": []
    },
    {
      "cell_type": "code",
      "source": [
        "model = MyModel()\n"
      ],
      "metadata": {
        "id": "2GOQd1mLQByD"
      },
      "id": "2GOQd1mLQByD",
      "execution_count": 17,
      "outputs": []
    },
    {
      "cell_type": "code",
      "source": [
        "a = tf.random.normal((2, 10))\n",
        "b = tf.random.normal((2, 10))\n",
        "model((a, b))"
      ],
      "metadata": {
        "colab": {
          "base_uri": "https://localhost:8080/"
        },
        "id": "ZfFbVgNDQkFg",
        "outputId": "39b74be2-6341-47aa-cd06-74c2092fb3ba"
      },
      "id": "ZfFbVgNDQkFg",
      "execution_count": 18,
      "outputs": [
        {
          "output_type": "execute_result",
          "data": {
            "text/plain": [
              "(<tf.Tensor: shape=(2, 10), dtype=float32, numpy=\n",
              " array([[0.08726072, 0.12246495, 0.0990487 , 0.1020054 , 0.1338302 ,\n",
              "         0.1164879 , 0.06395103, 0.11741704, 0.10731672, 0.05021747],\n",
              "        [0.06087182, 0.1610275 , 0.08132906, 0.08016706, 0.10888571,\n",
              "         0.14701955, 0.04061533, 0.10588755, 0.17976364, 0.03443277]],\n",
              "       dtype=float32)>,\n",
              " <tf.Tensor: shape=(2, 192), dtype=float32, numpy=\n",
              " array([[0.3006261 , 0.        , 0.        , 0.        , 0.        ,\n",
              "         0.12359703, 0.        , 0.        , 0.        , 0.        ,\n",
              "         0.        , 0.        , 0.        , 0.        , 0.        ,\n",
              "         0.2517427 , 0.        , 0.34107152, 0.        , 0.        ,\n",
              "         0.        , 0.        , 0.04924668, 0.00965034, 0.        ,\n",
              "         0.22379568, 0.        , 0.33683515, 0.16760264, 0.        ,\n",
              "         0.26461667, 0.11578378, 0.        , 0.47939268, 0.        ,\n",
              "         0.38762587, 0.234668  , 0.1368237 , 0.02848465, 0.        ,\n",
              "         0.        , 0.        , 0.        , 0.        , 0.01633263,\n",
              "         0.4931764 , 0.        , 0.        , 0.        , 0.        ,\n",
              "         0.6399467 , 0.33152914, 0.16168177, 0.30624568, 0.20589231,\n",
              "         0.        , 0.        , 0.07544646, 0.36845648, 0.992106  ,\n",
              "         0.5254172 , 0.        , 0.06184336, 0.        , 0.        ,\n",
              "         0.        , 0.        , 0.        , 0.27713758, 0.36640313,\n",
              "         0.        , 0.        , 0.22233553, 0.        , 0.        ,\n",
              "         0.        , 0.14676452, 0.2511719 , 0.        , 0.22208305,\n",
              "         0.        , 0.        , 0.20479015, 0.        , 0.        ,\n",
              "         0.09084813, 0.        , 0.15188335, 0.        , 0.        ,\n",
              "         0.42684093, 0.        , 0.        , 0.        , 0.        ,\n",
              "         0.        , 0.        , 0.        , 0.19132113, 0.12017719,\n",
              "         0.        , 0.        , 0.5383711 , 0.        , 0.34303322,\n",
              "         0.        , 0.36578608, 0.        , 0.        , 0.        ,\n",
              "         0.        , 0.29992425, 0.02057859, 0.        , 0.        ,\n",
              "         0.04849952, 0.        , 0.        , 0.        , 0.24389964,\n",
              "         0.        , 0.04512361, 0.        , 0.        , 0.42506146,\n",
              "         0.        , 0.5940266 , 0.        , 0.3770616 , 0.        ,\n",
              "         0.        , 1.0936933 , 0.        , 0.        , 0.        ,\n",
              "         0.        , 0.        , 0.6686423 , 0.        , 0.        ,\n",
              "         0.        , 0.        , 0.09908587, 0.7938938 , 0.        ,\n",
              "         0.5916184 , 0.05605139, 0.10065556, 0.        , 0.        ,\n",
              "         0.        , 0.        , 0.        , 0.        , 0.5054985 ,\n",
              "         0.83232033, 0.        , 0.17992511, 0.        , 0.        ,\n",
              "         0.        , 0.        , 0.        , 0.        , 0.        ,\n",
              "         0.4067883 , 0.        , 0.14580458, 0.        , 0.        ,\n",
              "         0.        , 0.04688564, 0.        , 0.        , 0.6675023 ,\n",
              "         1.1730304 , 0.15835616, 0.        , 1.5691327 , 0.        ,\n",
              "         0.58953285, 0.        , 0.19196044, 0.09509155, 0.        ,\n",
              "         0.2820743 , 0.        , 0.        , 0.        , 0.        ,\n",
              "         0.5682313 , 0.        ],\n",
              "        [0.79087585, 0.        , 0.        , 0.        , 0.2695452 ,\n",
              "         0.4513716 , 0.        , 0.        , 0.3663651 , 0.19981101,\n",
              "         0.        , 0.        , 0.12191764, 0.        , 0.        ,\n",
              "         0.        , 0.        , 0.        , 0.19313675, 0.4171265 ,\n",
              "         0.1811459 , 0.06196772, 0.        , 0.5553181 , 0.4705162 ,\n",
              "         0.        , 0.19401483, 0.        , 0.        , 0.        ,\n",
              "         0.76098734, 0.10845046, 0.        , 0.26011997, 0.17975399,\n",
              "         0.        , 0.30422655, 0.16422519, 0.79839385, 0.01902273,\n",
              "         0.35423958, 0.08534242, 0.        , 0.        , 0.        ,\n",
              "         0.5429609 , 0.        , 0.        , 0.        , 0.        ,\n",
              "         1.0343281 , 0.03900493, 0.41202283, 0.        , 0.        ,\n",
              "         0.        , 0.1676449 , 0.4127931 , 1.230699  , 0.4688041 ,\n",
              "         0.18505956, 0.        , 0.21373123, 0.5588186 , 0.        ,\n",
              "         0.31664443, 0.        , 0.        , 0.        , 0.        ,\n",
              "         0.        , 0.        , 0.        , 0.        , 0.36962846,\n",
              "         0.        , 0.13127147, 0.3700446 , 0.09935877, 0.4011318 ,\n",
              "         0.0556027 , 0.68712837, 0.0384275 , 0.4721578 , 0.        ,\n",
              "         0.        , 0.        , 0.        , 0.        , 0.60280347,\n",
              "         0.45092613, 0.18296233, 0.        , 0.        , 0.        ,\n",
              "         0.23784977, 0.        , 0.        , 0.01391883, 0.47828323,\n",
              "         0.19056538, 0.7962965 , 0.3251388 , 0.18010144, 0.        ,\n",
              "         0.        , 0.08412342, 0.08832753, 0.        , 0.        ,\n",
              "         0.        , 0.45446557, 0.        , 0.08761741, 0.        ,\n",
              "         0.49504003, 0.        , 0.        , 0.21521035, 0.20026696,\n",
              "         0.        , 0.12343518, 0.00652623, 0.34094882, 0.        ,\n",
              "         0.        , 0.19695482, 0.        , 0.        , 0.        ,\n",
              "         0.        , 0.        , 0.18389171, 0.        , 1.032031  ,\n",
              "         0.08637792, 0.        , 1.377361  , 0.        , 0.7614317 ,\n",
              "         0.07574919, 0.        , 0.        , 0.        , 0.07386182,\n",
              "         0.50495374, 0.13057375, 0.3251593 , 0.7860241 , 0.        ,\n",
              "         0.        , 0.22670195, 0.        , 0.        , 1.3481598 ,\n",
              "         0.26534182, 0.        , 0.39284432, 0.        , 1.1786509 ,\n",
              "         1.1101419 , 0.75652736, 0.        , 0.        , 0.        ,\n",
              "         0.        , 0.7309439 , 0.        , 0.05138803, 0.        ,\n",
              "         0.1621747 , 0.        , 0.98063046, 0.        , 1.421478  ,\n",
              "         0.        , 0.81585246, 0.        , 0.6822499 , 1.6186913 ,\n",
              "         0.        , 0.23500098, 0.        , 0.507498  , 0.41298014,\n",
              "         0.        , 0.44840074, 1.1540923 , 0.        , 0.        ,\n",
              "         0.7414012 , 0.98440707]], dtype=float32)>)"
            ]
          },
          "metadata": {},
          "execution_count": 18
        }
      ]
    },
    {
      "cell_type": "code",
      "source": [
        "model.summary()"
      ],
      "metadata": {
        "colab": {
          "base_uri": "https://localhost:8080/"
        },
        "id": "KAFiKTcUQ0nt",
        "outputId": "dff5d17c-d1e7-4f40-dad8-78f73eb8ce5c"
      },
      "id": "KAFiKTcUQ0nt",
      "execution_count": 19,
      "outputs": [
        {
          "output_type": "stream",
          "name": "stdout",
          "text": [
            "Model: \"my_model_1\"\n",
            "_________________________________________________________________\n",
            " Layer (type)                Output Shape              Param #   \n",
            "=================================================================\n",
            " dense_8 (Dense)             multiple                  1408      \n",
            "                                                                 \n",
            " dense_9 (Dense)             multiple                  704       \n",
            "                                                                 \n",
            " dropout_6 (Dropout)         multiple                  0         \n",
            "                                                                 \n",
            " dense_10 (Dense)            multiple                  1290      \n",
            "                                                                 \n",
            " concatenate_1 (Concatenate  multiple                  0         \n",
            " )                                                               \n",
            "                                                                 \n",
            "=================================================================\n",
            "Total params: 3402 (13.29 KB)\n",
            "Trainable params: 3402 (13.29 KB)\n",
            "Non-trainable params: 0 (0.00 Byte)\n",
            "_________________________________________________________________\n"
          ]
        }
      ]
    },
    {
      "cell_type": "markdown",
      "id": "1940ea82",
      "metadata": {
        "id": "1940ea82"
      },
      "source": [
        "\n",
        "## 4. Implementing Custom Loss Functions\n",
        "\n",
        "**Objective**: Implement and understand custom loss functions.\n",
        "\n",
        "**Exercises**:\n",
        "1. Write a custom loss function that calculates mean squared error.\n",
        "2. Implement a custom loss function that adds a regularizing term.\n"
      ]
    },
    {
      "cell_type": "markdown",
      "id": "563cad4e",
      "metadata": {
        "id": "563cad4e"
      },
      "source": [
        "\n",
        "## 5. Compiling and Training a Model\n",
        "\n",
        "**Objective**: Compile and train a Keras model.\n",
        "\n",
        "**Exercises**:\n",
        "1. Compile a model with a specified optimizer, loss function, and metric.\n",
        "2. Write a code snippet to train a model on given training data and labels.\n"
      ]
    },
    {
      "cell_type": "markdown",
      "id": "740da903",
      "metadata": {
        "id": "740da903"
      },
      "source": [
        "\n",
        "## 6. Freezing Layers in a Model\n",
        "\n",
        "**Objective**: Learn to freeze layers during model training.\n",
        "\n",
        "**Exercises**:\n",
        "1. Create a model and freeze a specific layer during training.\n",
        "2. Write an example of training a Keras model while keeping some layers as non-trainable.\n"
      ]
    },
    {
      "cell_type": "code",
      "source": [
        "model.layers[0].trainable = False"
      ],
      "metadata": {
        "id": "TptHmqYBRErJ"
      },
      "id": "TptHmqYBRErJ",
      "execution_count": 22,
      "outputs": []
    },
    {
      "cell_type": "code",
      "source": [
        "model.summary()"
      ],
      "metadata": {
        "colab": {
          "base_uri": "https://localhost:8080/"
        },
        "id": "NU9H8P_NRFyV",
        "outputId": "8cb25824-2251-4be4-fc8c-fb6c2417b602"
      },
      "id": "NU9H8P_NRFyV",
      "execution_count": 23,
      "outputs": [
        {
          "output_type": "stream",
          "name": "stdout",
          "text": [
            "Model: \"my_model_1\"\n",
            "_________________________________________________________________\n",
            " Layer (type)                Output Shape              Param #   \n",
            "=================================================================\n",
            " dense_8 (Dense)             multiple                  1408      \n",
            "                                                                 \n",
            " dense_9 (Dense)             multiple                  704       \n",
            "                                                                 \n",
            " dropout_6 (Dropout)         multiple                  0         \n",
            "                                                                 \n",
            " dense_10 (Dense)            multiple                  1290      \n",
            "                                                                 \n",
            " concatenate_1 (Concatenate  multiple                  0         \n",
            " )                                                               \n",
            "                                                                 \n",
            "=================================================================\n",
            "Total params: 3402 (13.29 KB)\n",
            "Trainable params: 1994 (7.79 KB)\n",
            "Non-trainable params: 1408 (5.50 KB)\n",
            "_________________________________________________________________\n"
          ]
        }
      ]
    },
    {
      "cell_type": "code",
      "source": [],
      "metadata": {
        "id": "fKZDqziQRWYY"
      },
      "id": "fKZDqziQRWYY",
      "execution_count": null,
      "outputs": []
    }
  ],
  "metadata": {
    "colab": {
      "provenance": []
    },
    "language_info": {
      "name": "python"
    },
    "kernelspec": {
      "name": "python3",
      "display_name": "Python 3"
    }
  },
  "nbformat": 4,
  "nbformat_minor": 5
}